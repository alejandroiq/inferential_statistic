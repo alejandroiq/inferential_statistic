{
 "cells": [
  {
   "cell_type": "markdown",
   "id": "caf173eb-9ca6-4905-b5b7-4e6d97c27704",
   "metadata": {},
   "source": [
    "# 1-Sample + 2-Sample T-Tests for Means "
   ]
  },
  {
   "cell_type": "markdown",
   "id": "a328c4ab-2119-42fe-be1d-97815b357b49",
   "metadata": {},
   "source": [
    "## Situation 1: One-Sample T-Test "
   ]
  },
  {
   "cell_type": "code",
   "execution_count": 1,
   "id": "c1005c4f-45d8-4d5c-a601-6712592d5154",
   "metadata": {},
   "outputs": [
    {
     "name": "stdout",
     "output_type": "stream",
     "text": [
      "Average load time: 2.54 seconds\n",
      "Standard deviation: 0.14 seconds\n",
      "t-statistic: 1.659\n",
      "p-value: 0.108\n"
     ]
    }
   ],
   "source": [
    "import numpy as np\n",
    "from scipy import stats\n",
    "\n",
    "# Load times collected from 30 test runs (in seconds)\n",
    "load_times = np.array([2.8, 2.3, 2.6, 2.4, 2.7, 2.5, 2.6, 2.4, 2.8, 2.3,\n",
    "                      2.5, 2.4, 2.6, 2.7, 2.5, 2.4, 2.6, 2.5, 2.7, 2.4,\n",
    "                      2.6, 2.5, 2.7, 2.4, 2.6, 2.5, 2.8, 2.4, 2.6, 2.5])\n",
    "\n",
    "# Perform one-sample t-test against target of 2.5 seconds\n",
    "t_stat, p_value = stats.ttest_1samp(load_times, 2.5)\n",
    "\n",
    "print(f\"Average load time: {np.mean(load_times):.2f} seconds\")\n",
    "print(f\"Standard deviation: {np.std(load_times, ddof=1):.2f} seconds\")\n",
    "print(f\"t-statistic: {t_stat:.3f}\")\n",
    "print(f\"p-value: {p_value:.3f}\")"
   ]
  },
  {
   "cell_type": "markdown",
   "id": "e43f713a-966d-4602-bf76-147ec4cac82b",
   "metadata": {},
   "source": [
    "## Situation 2: Two-Sample independent T-Test "
   ]
  },
  {
   "cell_type": "code",
   "execution_count": 2,
   "id": "f586dbea-a373-432e-9a82-fe87e86db915",
   "metadata": {},
   "outputs": [
    {
     "name": "stdout",
     "output_type": "stream",
     "text": [
      "Old cache average: 2.66 seconds\n",
      "New cache average: 2.25 seconds\n",
      "Difference: 0.41 seconds\n",
      "t-statistic: 8.128\n",
      "p-value: 0.000\n"
     ]
    }
   ],
   "source": [
    "# Load times with old and new caching system\n",
    "old_cache = np.array([2.8, 2.6, 2.7, 2.5, 2.8, 2.6, 2.7, 2.5, 2.8, 2.6])\n",
    "new_cache = np.array([2.3, 2.2, 2.4, 2.1, 2.3, 2.2, 2.4, 2.1, 2.3, 2.2])\n",
    "\n",
    "# Perform independent t-test\n",
    "t_stat, p_value = stats.ttest_ind(old_cache, new_cache)\n",
    "\n",
    "print(f\"Old cache average: {np.mean(old_cache):.2f} seconds\")\n",
    "print(f\"New cache average: {np.mean(new_cache):.2f} seconds\")\n",
    "print(f\"Difference: {np.mean(old_cache) - np.mean(new_cache):.2f} seconds\")\n",
    "print(f\"t-statistic: {t_stat:.3f}\")\n",
    "print(f\"p-value: {p_value:.3f}\")"
   ]
  },
  {
   "cell_type": "markdown",
   "id": "e4d21a15-3fff-4cb1-8730-a0ed8e8de310",
   "metadata": {},
   "source": [
    "## Situation 3: Paired T-Test "
   ]
  },
  {
   "cell_type": "code",
   "execution_count": 3,
   "id": "12cfc158-d25f-443c-b65f-2eeecb5c68b6",
   "metadata": {},
   "outputs": [
    {
     "name": "stdout",
     "output_type": "stream",
     "text": [
      "Average improvement: 0.40 seconds\n",
      "t-statistic: 8976086210978576.000\n",
      "p-value: 0.000\n"
     ]
    },
    {
     "name": "stderr",
     "output_type": "stream",
     "text": [
      "C:\\Users\\aleja\\anaconda3\\Lib\\site-packages\\scipy\\stats\\_axis_nan_policy.py:531: RuntimeWarning: Precision loss occurred in moment calculation due to catastrophic cancellation. This occurs when the data are nearly identical. Results may be unreliable.\n",
      "  res = hypotest_fun_out(*samples, **kwds)\n"
     ]
    }
   ],
   "source": [
    "# Same users' load times before and after optimization\n",
    "before_opt = np.array([3.1, 2.9, 3.0, 2.8, 3.2, 2.9, 3.1, 2.8, 3.0, 2.9])\n",
    "after_opt = np.array([2.7, 2.5, 2.6, 2.4, 2.8, 2.5, 2.7, 2.4, 2.6, 2.5])\n",
    "\n",
    "# Perform paired t-test\n",
    "t_stat, p_value = stats.ttest_rel(before_opt, after_opt)\n",
    "\n",
    "print(f\"Average improvement: {np.mean(before_opt - after_opt):.2f} seconds\")\n",
    "print(f\"t-statistic: {t_stat:.3f}\")\n",
    "print(f\"p-value: {p_value:.3f}\")"
   ]
  },
  {
   "cell_type": "code",
   "execution_count": null,
   "id": "2895b327-7ba7-44b0-b9a1-ff546b4ee468",
   "metadata": {},
   "outputs": [],
   "source": []
  }
 ],
 "metadata": {
  "kernelspec": {
   "display_name": "Python (base)",
   "language": "python",
   "name": "base"
  },
  "language_info": {
   "codemirror_mode": {
    "name": "ipython",
    "version": 3
   },
   "file_extension": ".py",
   "mimetype": "text/x-python",
   "name": "python",
   "nbconvert_exporter": "python",
   "pygments_lexer": "ipython3",
   "version": "3.11.11"
  }
 },
 "nbformat": 4,
 "nbformat_minor": 5
}
