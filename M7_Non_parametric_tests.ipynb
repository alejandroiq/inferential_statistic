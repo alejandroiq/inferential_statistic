{
 "cells": [
  {
   "cell_type": "markdown",
   "id": "3fea8090-2ef9-4a07-8933-28712ace298f",
   "metadata": {},
   "source": [
    "# Rank Transformation test"
   ]
  },
  {
   "cell_type": "markdown",
   "id": "a4afc780-2c85-4df6-aebe-b233b2751122",
   "metadata": {},
   "source": [
    "Let's start with how rank-based tests work, since this is fundamental to many non-parametric methods. Rank Transformation is something most non-parametric tests do to convert raw values to ranks, which makes them resistant to outliers and non-normal distributions"
   ]
  },
  {
   "cell_type": "code",
   "execution_count": 1,
   "id": "242e6bb7-ece4-46c4-a045-78c81cb67c2a",
   "metadata": {},
   "outputs": [
    {
     "name": "stdout",
     "output_type": "stream",
     "text": [
      "Original data: [20, 23, 24, 28, 29, 32, 34, 36, 40]\n",
      "\n",
      "Ranked data: [1. 2. 3. 4. 5. 6. 7. 8. 9.]\n",
      "\n",
      "Data with ties: [1 2 2 3 4 4 5]\n",
      "Ranks with ties: [1.  2.5 2.5 4.  5.5 5.5 7. ]\n"
     ]
    },
    {
     "data": {
      "text/plain": [
       "array([1., 2., 3., 4., 5., 6., 7., 8., 9.])"
      ]
     },
     "execution_count": 1,
     "metadata": {},
     "output_type": "execute_result"
    }
   ],
   "source": [
    "data = [20, 23, 24, 28, 29, 32, 34, 36, 40]\n",
    "\n",
    "def demonstrate_ranking_process(data):\n",
    "    \"\"\"\n",
    "    Shows how non-parametric tests convert raw data to ranks\n",
    "    \"\"\"\n",
    "    import numpy as np\n",
    "    from scipy import stats\n",
    "    \n",
    "    # Original data\n",
    "    print(\"Original data:\", data)\n",
    "    \n",
    "    # Convert to ranks\n",
    "    ranks = stats.rankdata(data)\n",
    "    print(\"\\nRanked data:\", ranks)\n",
    "    \n",
    "    # Handle ties by averaging ranks\n",
    "    data_with_ties = np.array([1, 2, 2, 3, 4, 4, 5])\n",
    "    ranks_with_ties = stats.rankdata(data_with_ties)\n",
    "    print(\"\\nData with ties:\", data_with_ties)\n",
    "    print(\"Ranks with ties:\", ranks_with_ties)\n",
    "    \n",
    "    return ranks\n",
    "\n",
    "demonstrate_ranking_process(data)"
   ]
  },
  {
   "cell_type": "markdown",
   "id": "049c568e-328d-4bad-ad52-623215e5d706",
   "metadata": {},
   "source": [
    "Now let's implement a complete Mann-Whitney U (Wilcoxon rank sum) test to understand its inner workings. This is the non-parametric version of the 2-sample independent t test:"
   ]
  },
  {
   "cell_type": "code",
   "execution_count": 2,
   "id": "c2e556ae-3d47-4c6e-a62f-ea8a361b9468",
   "metadata": {},
   "outputs": [
    {
     "name": "stdout",
     "output_type": "stream",
     "text": [
      "Mann-Whitney U Test Analysis\n",
      "------------------------------\n",
      "Group 1 n: 30\n",
      "Group 2 n: 30\n",
      "U statistic: 329.0\n",
      "P-value: 0.0669\n",
      "Effect size: -0.269\n"
     ]
    },
    {
     "data": {
      "text/plain": [
       "{'U': 329.0,\n",
       " 'p_value': 0.06690702807258865,\n",
       " 'effect_size': -0.2688888888888889,\n",
       " 'significant': False}"
      ]
     },
     "execution_count": 2,
     "metadata": {},
     "output_type": "execute_result"
    }
   ],
   "source": [
    "# Scenario: Customer satisfaction ratings (1-5 scale) for old and new website\n",
    "# Simulating ordinal data where parametric tests wouldn't be appropriate\n",
    "\n",
    "import numpy as np\n",
    "from scipy import stats\n",
    "\n",
    "\n",
    "np.random.seed(42)\n",
    "satisfaction_old = np.random.choice([1, 2, 3, 4, 5], size=30,\n",
    "                                   p=[0.1, 0.2, 0.4, 0.2, 0.1])\n",
    "satisfaction_new = np.random.choice([1, 2, 3, 4, 5], size=30,\n",
    "                                   p=[0.05, 0.15, 0.3, 0.3, 0.2])\n",
    "\n",
    "def mann_whitney_detailed(group1, group2, alpha=0.05):\n",
    "    \"\"\"\n",
    "    Implements Mann-Whitney U test with detailed explanation\n",
    "    \"\"\"\n",
    "    # Step 1: Combine and rank all values\n",
    "    combined = np.concatenate([group1, group2])\n",
    "    ranks = stats.rankdata(combined)\n",
    "    \n",
    "    # Step 2: Split ranks back into groups\n",
    "    n1, n2 = len(group1), len(group2)\n",
    "    rank_sum1 = np.sum(ranks[:n1])\n",
    "    \n",
    "    # Step 3: Calculate U statistic\n",
    "    U1 = rank_sum1 - (n1 * (n1 + 1)) / 2\n",
    "    U2 = n1 * n2 - U1\n",
    "    U = min(U1, U2)\n",
    "    \n",
    "    # Step 4: Calculate effect size\n",
    "    effect_size = 2 * (U - (n1 * n2)/2) / (n1 * n2)\n",
    "    \n",
    "    # Perform the test using scipy for p-value (does the above for us)\n",
    "    stat, p_value = stats.mannwhitneyu(group1, group2, alternative='two-sided')\n",
    "    \n",
    "    print(\"Mann-Whitney U Test Analysis\")\n",
    "    print(\"-\" * 30)\n",
    "    print(f\"Group 1 n: {n1}\")\n",
    "    print(f\"Group 2 n: {n2}\")\n",
    "    print(f\"U statistic: {U}\")\n",
    "    print(f\"P-value: {p_value:.4f}\")\n",
    "    print(f\"Effect size: {effect_size:.3f}\")\n",
    "    \n",
    "    return {\n",
    "        'U': U,\n",
    "        'p_value': p_value,\n",
    "        'effect_size': effect_size,\n",
    "        'significant': p_value < alpha\n",
    "    }\n",
    "\n",
    "mann_whitney_detailed(satisfaction_old, satisfaction_new) "
   ]
  },
  {
   "cell_type": "markdown",
   "id": "cff6d9db-c36f-43e3-878b-8c6fc8afe263",
   "metadata": {},
   "source": [
    "### Fisher's exact test"
   ]
  },
  {
   "cell_type": "code",
   "execution_count": 3,
   "id": "82246875-b6f9-42f6-9479-72e3934e1723",
   "metadata": {},
   "outputs": [
    {
     "name": "stdout",
     "output_type": "stream",
     "text": [
      "Fisher's Exact Test Analysis\n",
      "------------------------------\n",
      "\n",
      "Contingency Table:\n",
      "[[5 0]\n",
      " [1 4]]\n",
      "\n",
      "Row totals: [5 5]\n",
      "Column totals: [6 4]\n",
      "Total: 10\n",
      "\n",
      "Probability of this exact arrangement: 0.023810\n",
      "Fisher's Exact Test p-value: 0.047619\n"
     ]
    },
    {
     "data": {
      "text/plain": [
       "(inf, 0.047619047619047616)"
      ]
     },
     "execution_count": 3,
     "metadata": {},
     "output_type": "execute_result"
    }
   ],
   "source": [
    "def demonstrate_fishers_exact(table):\n",
    "    \"\"\"\n",
    "    Demonstrates how Fisher's Exact Test calculates probabilities\n",
    "    using a clear step-by-step process\n",
    "    \"\"\"\n",
    "    import numpy as np\n",
    "    from scipy.stats import fisher_exact\n",
    "    from math import factorial\n",
    "    \n",
    "    # Step 1: Set up the contingency table\n",
    "    table = np.array(table)\n",
    "    \n",
    "    # Step 2: Calculate row and column totals\n",
    "    row_sums = np.sum(table, axis=1)\n",
    "    col_sums = np.sum(table, axis=0)\n",
    "    total = np.sum(table)\n",
    "    \n",
    "    # Step 3: Calculate the hypergeometric probability for one table\n",
    "    def calculate_table_probability(t):\n",
    "        \"\"\"\n",
    "        Calculates the probability of observing this exact table arrangement\n",
    "        \"\"\"\n",
    "        numerator = (factorial(row_sums[0]) * factorial(row_sums[1]) * \n",
    "                    factorial(col_sums[0]) * factorial(col_sums[1]))\n",
    "        denominator = (factorial(total) * factorial(t[0,0]) * \n",
    "                      factorial(t[0,1]) * factorial(t[1,0]) * \n",
    "                      factorial(t[1,1]))\n",
    "        return numerator / denominator\n",
    "    \n",
    "    probability = calculate_table_probability(table)\n",
    "    # Repeat this for all possible tables that are as extreme or more OR\n",
    "    \n",
    "    # Step 4: Calculate Fisher's exact test using scipy\n",
    "    odds_ratio, p_value = fisher_exact(table)\n",
    "    \n",
    "    print(\"Fisher's Exact Test Analysis\")\n",
    "    print(\"-\" * 30)\n",
    "    print(\"\\nContingency Table:\")\n",
    "    print(table)\n",
    "    print(\"\\nRow totals:\", row_sums)\n",
    "    print(\"Column totals:\", col_sums)\n",
    "    print(\"Total:\", total)\n",
    "    print(f\"\\nProbability of this exact arrangement: {probability:.6f}\")\n",
    "    print(f\"Fisher's Exact Test p-value: {p_value:.6f}\")\n",
    "    \n",
    "    return odds_ratio, p_value\n",
    "\n",
    "# Example usage with a small dataset\n",
    "example_table = np.array([[5, 0],\n",
    "                         [1, 4]])\n",
    "\n",
    "demonstrate_fishers_exact(example_table)"
   ]
  },
  {
   "cell_type": "code",
   "execution_count": null,
   "id": "261a06e5-820c-43d1-b7dd-e063b9ba97bc",
   "metadata": {},
   "outputs": [],
   "source": []
  }
 ],
 "metadata": {
  "kernelspec": {
   "display_name": "Python (base)",
   "language": "python",
   "name": "base"
  },
  "language_info": {
   "codemirror_mode": {
    "name": "ipython",
    "version": 3
   },
   "file_extension": ".py",
   "mimetype": "text/x-python",
   "name": "python",
   "nbconvert_exporter": "python",
   "pygments_lexer": "ipython3",
   "version": "3.11.11"
  }
 },
 "nbformat": 4,
 "nbformat_minor": 5
}
