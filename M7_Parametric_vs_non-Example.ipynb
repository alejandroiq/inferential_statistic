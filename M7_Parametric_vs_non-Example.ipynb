{
 "cells": [
  {
   "cell_type": "markdown",
   "id": "49220c49-b674-4881-bc78-1abeb35a85cd",
   "metadata": {},
   "source": [
    "# Parametric vs. non-parametric"
   ]
  },
  {
   "cell_type": "markdown",
   "id": "00a778a0-7e01-4e23-b0bd-d07320e0ec21",
   "metadata": {},
   "source": [
    "### Example"
   ]
  },
  {
   "cell_type": "code",
   "execution_count": 1,
   "id": "a927d71e-310b-416e-82f6-10fec293b75d",
   "metadata": {},
   "outputs": [],
   "source": [
    "import pandas as pd\n",
    "import numpy as np\n",
    "from scipy import stats\n",
    "import matplotlib.pyplot as plt\n",
    "import seaborn as sns"
   ]
  },
  {
   "cell_type": "code",
   "execution_count": 2,
   "id": "42c0d4cd-f675-4700-b0b9-5a7861829dd3",
   "metadata": {},
   "outputs": [],
   "source": [
    "# Load the campaign data\n",
    "def analyze_campaign_data():\n",
    "    \n",
    "    # Simulated campaign data\n",
    "    campaign_a = np.array([45, 42, 36, 39, 51, 44, 58, 35, 120, 40, 48, 37, \n",
    "                          46, 41, 43, 39, 250, 200, 150, 42])\n",
    "    campaign_b = np.array([52, 48, 42, 45, 48, 46, 49, 44, 45, 42, 41, 47, \n",
    "                          44, 40, 45, 43, 42, 44, 45, 46])\n",
    "    \n",
    "    print(\"Step 1: Initial Data Exploration\")\n",
    "    print(\"-\" * 50)\n",
    "    \n",
    "    print(\"Campaign A Summary:\")\n",
    "    print(f\"Mean: ${np.mean(campaign_a):.2f}\")\n",
    "    print(f\"Median: ${np.median(campaign_a):.2f}\")\n",
    "    print(f\"Standard Deviation: ${np.std(campaign_a):.2f}\\n\")\n",
    "    \n",
    "    print(\"Campaign B Summary:\")\n",
    "    print(f\"Mean: ${np.mean(campaign_b):.2f}\")\n",
    "    print(f\"Median: ${np.median(campaign_b):.2f}\")\n",
    "    print(f\"Standard Deviation: ${np.std(campaign_b):.2f}\\n\")\n",
    "\n",
    "    \n",
    "    # Check normality\n",
    "    print(\"Step 2: Testing Normality Assumption\")\n",
    "    print(\"-\" * 50)\n",
    "    _, p_value_a = stats.shapiro(campaign_a)\n",
    "    _, p_value_b = stats.shapiro(campaign_b)\n",
    "    \n",
    "    print(f\"Shapiro-Wilk test p-values:\")\n",
    "    print(f\"Campaign A: {p_value_a:.4f}\")\n",
    "    print(f\"Campaign B: {p_value_b:.4f}\\n\")\n",
    "\n",
    "    \n",
    "    # Visual check of distributions\n",
    "    fig, (ax1, ax2) = plt.subplots(1, 2, figsize=(12, 5))\n",
    "    sns.histplot(campaign_a, ax=ax1, bins=10)\n",
    "    ax1.set_title('Campaign A Distribution')\n",
    "    sns.histplot(campaign_b, ax=ax2, bins=10)\n",
    "    ax2.set_title('Campaign B Distribution')\n",
    "    plt.show()\n",
    "\n",
    "    \n",
    "    # Check homogeneity of variance\n",
    "    print(\"Step 3: Testing Homogeneity of Variance\")\n",
    "    print(\"-\" * 50)\n",
    "    _, p_value_levene = stats.levene(campaign_a, campaign_b)\n",
    "    print(f\"Levene's test p-value: {p_value_levene:.4f}\\n\")\n",
    "\n",
    "    \n",
    "    # Handle violation of assumptions\n",
    "    if p_value_a < 0.05 or p_value_b < 0.05:\n",
    "        print(\"Step 4: Handling Non-normality\")\n",
    "        print(\"-\" * 50)\n",
    "        print(\"Normality assumption violated. Attempting log transformation...\")\n",
    "        \n",
    "        # Log transform the data\n",
    "        campaign_a_log = np.log(campaign_a)\n",
    "        campaign_b_log = np.log(campaign_b)\n",
    "        \n",
    "        # Check normality of transformed data\n",
    "        _, p_value_a_log = stats.shapiro(campaign_a_log)\n",
    "        _, p_value_b_log = stats.shapiro(campaign_b_log)\n",
    "        \n",
    "        print(\"\\nShapiro-Wilk test after log transformation:\")\n",
    "        print(f\"Campaign A: {p_value_a_log:.4f}\")\n",
    "        print(f\"Campaign B: {p_value_b_log:.4f}\")\n",
    "        \n",
    "        if p_value_a_log < 0.05 or p_value_b_log < 0.05:\n",
    "            print(\"\\nTransformation unsuccessful. Recommending non-parametric test.\")\n",
    "            # Perform Mann-Whitney U test (Non-parametric test)\n",
    "            stat, p_value = stats.mannwhitneyu(campaign_a, campaign_b, \n",
    "                                             alternative='two-sided')\n",
    "            print(f\"\\nMann-Whitney U test p-value: {p_value:.4f}\")\n",
    "        else:\n",
    "            # Perform t-test on transformed data\n",
    "            stat, p_value = stats.ttest_ind(campaign_a_log, campaign_b_log)\n",
    "            print(f\"\\nt-test on transformed data p-value: {p_value:.4f}\")\n",
    "    else:\n",
    "        # Perform regular t-test if assumptions are met\n",
    "        stat, p_value = stats.ttest_ind(campaign_a, campaign_b)\n",
    "        print(\"All assumptions met. Performing standard t-test.\")\n",
    "        print(f\"t-test p-value: {p_value:.4f}\")"
   ]
  },
  {
   "cell_type": "code",
   "execution_count": 3,
   "id": "c0df02f4-8afb-454c-a704-0f0c10e98dd8",
   "metadata": {},
   "outputs": [
    {
     "name": "stdout",
     "output_type": "stream",
     "text": [
      "Step 1: Initial Data Exploration\n",
      "--------------------------------------------------\n",
      "Campaign A Summary:\n",
      "Mean: $70.30\n",
      "Median: $43.50\n",
      "Standard Deviation: $59.37\n",
      "\n",
      "Campaign B Summary:\n",
      "Mean: $44.90\n",
      "Median: $45.00\n",
      "Standard Deviation: $2.86\n",
      "\n",
      "Step 2: Testing Normality Assumption\n",
      "--------------------------------------------------\n",
      "Shapiro-Wilk test p-values:\n",
      "Campaign A: 0.0000\n",
      "Campaign B: 0.7341\n",
      "\n"
     ]
    },
    {
     "data": {
      "image/png": "[encoded data removed]",
      "text/plain": [
       "<Figure size 1200x500 with 2 Axes>"
      ]
     },
     "metadata": {},
     "output_type": "display_data"
    },
    {
     "name": "stdout",
     "output_type": "stream",
     "text": [
      "Step 3: Testing Homogeneity of Variance\n",
      "--------------------------------------------------\n",
      "Levene's test p-value: 0.0355\n",
      "\n",
      "Step 4: Handling Non-normality\n",
      "--------------------------------------------------\n",
      "Normality assumption violated. Attempting log transformation...\n",
      "\n",
      "Shapiro-Wilk test after log transformation:\n",
      "Campaign A: 0.0000\n",
      "Campaign B: 0.8946\n",
      "\n",
      "Transformation unsuccessful. Recommending non-parametric test.\n",
      "\n",
      "Mann-Whitney U test p-value: 0.6544\n"
     ]
    }
   ],
   "source": [
    "# Run the analysis\n",
    "analyze_campaign_data()"
   ]
  },
  {
   "cell_type": "markdown",
   "id": "8b2a4580-73e2-4745-8b54-c62e4842c2d0",
   "metadata": {},
   "source": [
    "Based on this analysis, I found no significant difference in mean purchase amount between the two marketing campaigns (p > 0.05), however, there were several considerably large outlier purchase amounts for campaign A that warrant a further analysis into as special customer cases"
   ]
  },
  {
   "cell_type": "markdown",
   "id": "850d281a-8633-40c3-af78-dad634572183",
   "metadata": {},
   "source": [
    "NOTE: The relatively small sample sizes of simulated data (for demonstration purposes) might not be enough to detect a significant difference at any meaningful level here but are useful in highlighting data that does not meet our necessary assumptions."
   ]
  },
  {
   "cell_type": "code",
   "execution_count": null,
   "id": "365a24e3-9a8c-4151-aa62-5db641f177cd",
   "metadata": {},
   "outputs": [],
   "source": []
  }
 ],
 "metadata": {
  "kernelspec": {
   "display_name": "Python (base)",
   "language": "python",
   "name": "base"
  },
  "language_info": {
   "codemirror_mode": {
    "name": "ipython",
    "version": 3
   },
   "file_extension": ".py",
   "mimetype": "text/x-python",
   "name": "python",
   "nbconvert_exporter": "python",
   "pygments_lexer": "ipython3",
   "version": "3.11.11"
  }
 },
 "nbformat": 4,
 "nbformat_minor": 5
}
