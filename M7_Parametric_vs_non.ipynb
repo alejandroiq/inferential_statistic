{
 "cells": [
  {
   "cell_type": "markdown",
   "id": "49220c49-b674-4881-bc78-1abeb35a85cd",
   "metadata": {},
   "source": [
    "# Parametric vs. non-parametric"
   ]
  },
  {
   "cell_type": "markdown",
   "id": "00a778a0-7e01-4e23-b0bd-d07320e0ec21",
   "metadata": {},
   "source": [
    "### Testing for Normality"
   ]
  },
  {
   "cell_type": "code",
   "execution_count": null,
   "id": "d5e8a131-9e94-4ff5-a52a-ee2a143d9d61",
   "metadata": {},
   "outputs": [],
   "source": [
    "import scipy.stats as stats \n",
    "import matplotlib.pyplot as plt \n",
    "import seaborn as sns\n",
    "\n",
    "def check_normality(data, alpha=0.05):\n",
    "    # Visual check - Q-Q plot\n",
    "    stats.probplot(data, dist=\"norm\", plot=plt)\n",
    "    plt.title(\"Q-Q plot\")\n",
    "    plt.show()\n",
    "    \n",
    "    # Visual check - histogram\n",
    "    sns.histplot(data, kde=True)\n",
    "    plt.title(\"Distribution with KDE\")\n",
    "    plt.show()\n",
    "    \n",
    "    # Statistical test - Shapiro-Wilk\n",
    "    statistic, p_value = stats.shapiro(data)\n",
    "    print(f\"Shapiro-Wilk test: p-value = {p_value:.4f}\")"
   ]
  },
  {
   "cell_type": "markdown",
   "id": "09addfd2-19b5-4dd4-9253-b2fbdfa40f7a",
   "metadata": {},
   "source": [
    "This function combines three powerful methods for checking normality:\n",
    "\n",
    "The Q-Q plot provides a visual way to assess normality. Think of it as comparing your data's distribution to a perfect normal distribution. If the points follow a straight diagonal line, your data is approximately normal. Any systematic deviations from this line suggest non-normality (Outlier data points are easily highlighted via this method).\n",
    "\n",
    "The histogram with KDE (Kernel Density Estimation) overlay gives you an intuitive view of your data's shape. The KDE line helps you see if your distribution approximates the classic bell curve shape of a normal distribution.\n",
    "\n",
    "The Shapiro-Wilk test provides a numerical assessment. If the p-value is above your alpha level (typically 0.05), you don't have strong evidence against normality. The null hypothesis is that the data is normal. However, with large samples, even small deviations from normality can lead to significant results, which is why we always look at visualizations too.\n"
   ]
  },
  {
   "cell_type": "markdown",
   "id": "936988e9-f5cc-4826-9b18-d4f0544fd1f8",
   "metadata": {},
   "source": [
    "### Independency\n",
    "While independence is often determined by study design, we can check for certain types of dependence like autocorrelation:"
   ]
  },
  {
   "cell_type": "code",
   "execution_count": null,
   "id": "218166f4-3cc4-497a-a113-10ee02a3c84a",
   "metadata": {},
   "outputs": [],
   "source": [
    "from statsmodels.graphics.tsaplots import plot_acf\n",
    "def check_autocorrelation(data, lags=20, alpha=.05):\n",
    "   plot_acf(data, lags=lags, alpha=alpha)"
   ]
  },
  {
   "cell_type": "markdown",
   "id": "088068cd-7552-4105-9162-ddcf5b8a9a7a",
   "metadata": {},
   "source": [
    "### Testing for Homoscedasticity\n",
    "When comparing groups, we need to verify equal variances. Here's how to implement this check:"
   ]
  },
  {
   "cell_type": "code",
   "execution_count": null,
   "id": "d9d22a12-ec11-45c9-8803-e41112e515ed",
   "metadata": {},
   "outputs": [],
   "source": [
    "import scipy.stats as stats\n",
    "\n",
    "def check_homoscedasticity(group1, group2, alpha=0.05):\n",
    "    # Levene's test for equal variances\n",
    "    statistic, p_value = stats.levene(group1, group2)\n",
    "    print(f\"Levene's test: p-value = {p_value:.4f}\")\n",
    "    \n",
    "    # Visual check - boxplots\n",
    "    plt.boxplot([group1, group2])\n",
    "    plt.title(\"Boxplot comparison\")\n",
    "    plt.show()"
   ]
  },
  {
   "cell_type": "markdown",
   "id": "209d10b4-e835-4750-a32f-3e8bf2d841b9",
   "metadata": {},
   "source": [
    "This function uses two complementary approaches:\n",
    "\n",
    "Levene's test statistically compares the variances between groups. It's more robust than the alternative F-test because it works even when data isn't perfectly normal. Akin to the normality test above, the Levene test tests the null hypothesis that all input samples are from populations with equal variances.\n",
    "\n",
    "The boxplots provide a visual comparison of the spread in each group. Similar box sizes and whisker lengths suggest similar variances. This visual check is crucial because significant Levene's test results might not always indicate practically important differences in variance."
   ]
  },
  {
   "cell_type": "code",
   "execution_count": null,
   "id": "a927d71e-310b-416e-82f6-10fec293b75d",
   "metadata": {},
   "outputs": [],
   "source": []
  }
 ],
 "metadata": {
  "kernelspec": {
   "display_name": "Python (base)",
   "language": "python",
   "name": "base"
  },
  "language_info": {
   "codemirror_mode": {
    "name": "ipython",
    "version": 3
   },
   "file_extension": ".py",
   "mimetype": "text/x-python",
   "name": "python",
   "nbconvert_exporter": "python",
   "pygments_lexer": "ipython3",
   "version": "3.11.11"
  }
 },
 "nbformat": 4,
 "nbformat_minor": 5
}
