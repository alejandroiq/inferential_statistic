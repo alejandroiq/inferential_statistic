{
 "cells": [
  {
   "cell_type": "markdown",
   "id": "c60b5c8a-5b6a-4ad2-a999-e4c29edb05ed",
   "metadata": {},
   "source": [
    "# Non-Parametric Testing"
   ]
  },
  {
   "cell_type": "code",
   "execution_count": 1,
   "id": "e214603f-f5ef-452b-89f7-85a224f98189",
   "metadata": {},
   "outputs": [],
   "source": [
    "import numpy as np\n",
    "import pandas as pd\n",
    "from scipy import stats\n",
    "import matplotlib.pyplot as plt\n",
    "import seaborn as sns"
   ]
  },
  {
   "cell_type": "code",
   "execution_count": null,
   "id": "4233891d-fc6c-481f-b064-7a86a4c8c2f5",
   "metadata": {},
   "outputs": [],
   "source": [
    "# Load in both datasets\n",
    "df_pain = pd.read_csv('paired_pain.csv')\n",
    "df_response = pd.read_csv('response_outcome.csv')\n",
    "\n",
    "\n",
    "# Function to help with basic EDA\n",
    "def assess_data_characteristics(pain_data, response_data):\n",
    "   \"\"\"\n",
    "   Evaluates characteristics of both pain scores and treatment response data\n",
    "   \"\"\"\n",
    "   print(\"Step 1: Data Assessment\")\n",
    "   print(\"-\" * 50)\n",
    "  \n",
    "   # Analyze pain scores\n",
    "   print(\"Pain Score Analysis:\")\n",
    "   print(f\"Number of patients: {len(pain_data)}\")\n",
    "   print(\"Summary statistics:\")\n",
    "   print(pain_data.describe())\n",
    "  \n",
    "   # Check normality of differences\n",
    "   differences = pain_data['before'] - pain_data['after']\n",
    "   _, p_value = stats.shapiro(differences)\n",
    "   print(f\"\\nNormality test of differences p-value: {p_value:.4f}\")\n",
    "  \n",
    "   # Analyze treatment response\n",
    "   contingency_table = pd.crosstab(response_data['group'],\n",
    "                                 response_data['success'])\n",
    "   print(\"\\nTreatment Response Contingency Table:\")\n",
    "   print(contingency_table)\n",
    "\n",
    "\n",
    "assess_data_characteristics(df_pain, df_response) "
   ]
  }
 ],
 "metadata": {
  "kernelspec": {
   "display_name": "Python (base)",
   "language": "python",
   "name": "base"
  },
  "language_info": {
   "codemirror_mode": {
    "name": "ipython",
    "version": 3
   },
   "file_extension": ".py",
   "mimetype": "text/x-python",
   "name": "python",
   "nbconvert_exporter": "python",
   "pygments_lexer": "ipython3",
   "version": "3.11.11"
  }
 },
 "nbformat": 4,
 "nbformat_minor": 5
}
