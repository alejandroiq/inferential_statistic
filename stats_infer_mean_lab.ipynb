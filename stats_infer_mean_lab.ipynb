{
 "cells": [
  {
   "cell_type": "markdown",
   "metadata": {},
   "source": [
    "# Statistical Inference for Means Lab\n",
    "\n",
    "## Coral Genotype Growth Analysis\n",
    "\n",
    "As a research assistant at a marine biology research center, you're helping analyze data from a coral restoration project. The center has been growing different genotypes of staghorn coral (Acropora cervicornis) in their nursery to determine which genetic strains show the best growth potential for reef restoration.\n",
    "\n",
    "The research team has collected growth data (measured in centimeters of linear extension) over 1 year for 6 different coral genotypes. Initial fragments sizes were within .05cm of each other and only single tip fragments were used. Within the nursery 10 fragments from each genotype were placed on each growout tree (60 fragments total) for a total of 50 trees. This was done to try and control for any variation within the nursery setting.\n",
    "\n",
    "Your task is to determine if there are significant differences in growth rates between these genotypes, which will help inform which strains should be prioritized for future restoration efforts.\n",
    "\n",
    "## Data Overview\n",
    "\n",
    "Data File: coral_growth.csv \n",
    "\n",
    "Contains columns:\n",
    "- Genotype (G1, G2, G3, G4, G5, G6)\n",
    "- Growth_cm (linear extension in centimeters)\n",
    "\n",
    "First, let's import the libraries we'll need for our analysis:\n",
    "\n"
   ]
  },
  {
   "cell_type": "code",
   "execution_count": 1,
   "metadata": {},
   "outputs": [],
   "source": [
    "# CodeGrade step0\n",
    "# Run this cell without changes\n",
    "import numpy as np\n",
    "import pandas as pd\n",
    "import matplotlib.pyplot as plt\n",
    "import seaborn as sns\n",
    "from scipy import stats"
   ]
  },
  {
   "cell_type": "markdown",
   "metadata": {},
   "source": [
    "### Step 1: Define Research Questions/Hypothesis\n",
    "\n",
    "Defined below are several sets of null and alternative hypothesis based around the business problem presented in this lab. Which option given would be the best choice for this scenario and research question? Assign the letter as a string variable in the cell below.\n",
    "\n",
    "Option A: \n",
    "- Null Hypothesis (H₀): There are no differences in mean growth rates between any of the coral genotypes.\n",
    "μ₁ = μ₂ = μ₃ = μ₄ = μ₅ = μ₆\n",
    "- Alternative Hypothesis (H₁): At least two coral genotypes have different mean growth rates.\n",
    "At least one μᵢ ≠ μⱼ (where i and j are different genotypes)\n",
    "\n",
    "Option B:\n",
    "- Null Hypothesis (H₀): Genotype 1 grows faster than all other genotypes.\n",
    "μ₁ > μ₂, μ₃, μ₄, μ₅, μ₆\n",
    "- Alternative Hypothesis (H₁): At least one genotype grows faster than Genotype 1.\n",
    "At least one μᵢ > μ₁\n",
    "\n",
    "Option C:\n",
    "- Null Hypothesis (H₀): The coral genotypes will show similar growth patterns in the nursery.\n",
    "- Alternative Hypothesis (H₁): The coral genotypes will show different growth patterns in the nursery.\n",
    "\n",
    "Option D:\n",
    "- Null Hypothesis (H₀): μG1 ≠ μG2 ≠ μG3 ≠ μG4 ≠ μG5 ≠ μG6\n",
    "- Alternative Hypothesis (H₁): All genotypes have the same growth rate."
   ]
  },
  {
   "cell_type": "code",
   "execution_count": 2,
   "metadata": {},
   "outputs": [],
   "source": [
    "# CodeGrade step1\n",
    "# Assign the variable letter \"A\", \"B\", \"C\", or \"D\"\n",
    "hypothesis_choice = \"A\"\n",
    "\n",
    "# \"B\" considers only 1 genotype, \n",
    "# \"C\" does not mention the media of the population, so it's too simple, \n",
    "# \"D\" opposite to \"A\" reverse negation, don't like it"
   ]
  },
  {
   "cell_type": "markdown",
   "metadata": {},
   "source": [
    "### Step 2: Data Exploration\n",
    "\n",
    "First, let's examine our data to understand the distribution of growth rates across genotypes. We have provided the code to load in the data for you but you are being asked to fill the code for rapid EDA."
   ]
  },
  {
   "cell_type": "code",
   "execution_count": 3,
   "metadata": {},
   "outputs": [],
   "source": [
    "# CodeGrade step0\n",
    "# Run this cell without changes to load in data\n",
    "# You will need to have downloaded the provided data file and placed it the same location as the notebook\n",
    "df = pd.read_csv('coral_growth.csv')"
   ]
  },
  {
   "cell_type": "code",
   "execution_count": 4,
   "metadata": {},
   "outputs": [
    {
     "data": {
      "text/html": [
       "<div>\n",
       "<style scoped>\n",
       "    .dataframe tbody tr th:only-of-type {\n",
       "        vertical-align: middle;\n",
       "    }\n",
       "\n",
       "    .dataframe tbody tr th {\n",
       "        vertical-align: top;\n",
       "    }\n",
       "\n",
       "    .dataframe thead th {\n",
       "        text-align: right;\n",
       "    }\n",
       "</style>\n",
       "<table border=\"1\" class=\"dataframe\">\n",
       "  <thead>\n",
       "    <tr style=\"text-align: right;\">\n",
       "      <th></th>\n",
       "      <th>Genotype</th>\n",
       "      <th>Growth_cm</th>\n",
       "    </tr>\n",
       "  </thead>\n",
       "  <tbody>\n",
       "    <tr>\n",
       "      <th>0</th>\n",
       "      <td>G1</td>\n",
       "      <td>2.698686</td>\n",
       "    </tr>\n",
       "    <tr>\n",
       "      <th>1</th>\n",
       "      <td>G1</td>\n",
       "      <td>2.444694</td>\n",
       "    </tr>\n",
       "    <tr>\n",
       "      <th>2</th>\n",
       "      <td>G1</td>\n",
       "      <td>2.759075</td>\n",
       "    </tr>\n",
       "    <tr>\n",
       "      <th>3</th>\n",
       "      <td>G1</td>\n",
       "      <td>3.109212</td>\n",
       "    </tr>\n",
       "    <tr>\n",
       "      <th>4</th>\n",
       "      <td>G1</td>\n",
       "      <td>2.406339</td>\n",
       "    </tr>\n",
       "  </tbody>\n",
       "</table>\n",
       "</div>"
      ],
      "text/plain": [
       "  Genotype  Growth_cm\n",
       "0       G1   2.698686\n",
       "1       G1   2.444694\n",
       "2       G1   2.759075\n",
       "3       G1   3.109212\n",
       "4       G1   2.406339"
      ]
     },
     "execution_count": 4,
     "metadata": {},
     "output_type": "execute_result"
    }
   ],
   "source": [
    "df.head()"
   ]
  },
  {
   "cell_type": "markdown",
   "metadata": {},
   "source": [
    "df_mean = df.groupby('Genotype').mean()\n",
    "df_std = df.groupby('Genotype').std()\n",
    "df_count = df.groupby('Genotype').count()\n",
    "\n",
    "summary_stats_old = df_mean, df_std, df_count\n",
    "summary_stats_old"
   ]
  },
  {
   "cell_type": "code",
   "execution_count": 5,
   "metadata": {},
   "outputs": [],
   "source": [
    "# CodeGrade step2\n",
    "# Use df.groupby() with agg() to calculate mean, std, count for each genotype\n",
    "\n",
    "summary_stats = df.groupby('Genotype')['Growth_cm'].agg(['mean', 'std', 'count'])"
   ]
  },
  {
   "cell_type": "code",
   "execution_count": 6,
   "metadata": {},
   "outputs": [
    {
     "name": "stdout",
     "output_type": "stream",
     "text": [
      "Summary Statistics by Genotype:\n",
      "              mean       std  count\n",
      "Genotype                           \n",
      "G1        2.502735  0.392501    500\n",
      "G2        2.712730  0.391199    500\n",
      "G3        3.043394  0.404099    500\n",
      "G4        2.913275  0.393626    500\n",
      "G5        2.395393  0.383826    500\n",
      "G6        3.209274  0.402975    500\n"
     ]
    }
   ],
   "source": [
    "# Run this cell without changes\n",
    "# Calculate descriptive statistics for each genotype\n",
    "print(\"Summary Statistics by Genotype:\")\n",
    "print(summary_stats)"
   ]
  },
  {
   "cell_type": "markdown",
   "metadata": {},
   "source": [
    "### Step 3: Data Visualization - Boxplot\n",
    "\n",
    "Let's create a box plot to visualize the distribution of growth rates. Provide the following exact labels for your plot:\n",
    "- y-axis: Growth (cm)\n",
    "- x-axis: Coral Genotype\n",
    "- title: Growth Rates by Coral Genotype"
   ]
  },
  {
   "cell_type": "code",
   "execution_count": 7,
   "metadata": {},
   "outputs": [
    {
     "data": {
      "image/png": "[encoded data removed]",
      "text/plain": [
       "<Figure size 640x480 with 1 Axes>"
      ]
     },
     "metadata": {},
     "output_type": "display_data"
    }
   ],
   "source": [
    "# CodeGrade step3\n",
    "# Create a boxplot using seaborn\n",
    "\n",
    "boxplot_answer = sns.boxplot(data=df, y=\"Growth_cm\", x='Genotype', hue='Genotype')\n",
    "\n",
    "# Provide appropriate labels\n",
    "plt.title(\"Growth Rates by Coral Genotype\")\n",
    "plt.xlabel(\"Coral Genotype\")\n",
    "plt.ylabel(\"Growth (cm)\")\n",
    "plt.show()"
   ]
  },
  {
   "cell_type": "markdown",
   "metadata": {},
   "source": [
    "### Step 4: Check Assumptions\n",
    "\n",
    "Need to verify our data meets ANOVA's requirements. \n",
    "- Group data is normal: Scipy documentation for [Shapiro-Wilk Test](https://docs.scipy.org/doc/scipy/reference/generated/scipy.stats.shapiro.html#scipy.stats.shapiro)\n",
    "- Group data has similar variance: Scipy documentation for [Levene Test](https://docs.scipy.org/doc/scipy/reference/generated/scipy.stats.levene.html)"
   ]
  },
  {
   "cell_type": "code",
   "execution_count": 8,
   "metadata": {},
   "outputs": [],
   "source": [
    "gr = [df[df['Genotype'] == g]['Growth_cm'].values for g in df['Genotype'].unique()]"
   ]
  },
  {
   "cell_type": "code",
   "execution_count": 9,
   "metadata": {},
   "outputs": [],
   "source": [
    "# CodeGrade step4\n",
    "# Getting data for each group (should be a list of lists, or list of arrays)\n",
    "groups = [df[df['Genotype'] == g]['Growth_cm'].values for g in df['Genotype'].unique()]\n",
    "\n",
    "normality = {}\n",
    "# Loop through each genotype and save normality pvalue to dictionary\n",
    "for idx, genotype in enumerate(groups):\n",
    "    stat, p_value = stats.shapiro(genotype)\n",
    "    normality[f\"Genotype {idx+1}\"] = p_value\n",
    "\n",
    "# Test homogeneity of variances\n",
    "stat, p_value_var = stats.levene(*groups)"
   ]
  },
  {
   "cell_type": "code",
   "execution_count": 10,
   "metadata": {},
   "outputs": [
    {
     "name": "stdout",
     "output_type": "stream",
     "text": [
      "Testing Normality for Each Genotype:\n",
      "{'Genotype 1': 0.40126905399330937, 'Genotype 2': 0.6757445730085936, 'Genotype 3': 0.5760081775714531, 'Genotype 4': 0.5762425580031849, 'Genotype 5': 0.9942109900815315, 'Genotype 6': 0.5492195298781957}\n",
      "\n",
      "Levene's test for equal variances: p-value = 0.939\n"
     ]
    }
   ],
   "source": [
    "# Run this cell without changes to display result\n",
    "print(\"Testing Normality for Each Genotype:\")\n",
    "print(normality)\n",
    "print(f\"\\nLevene's test for equal variances: p-value = {p_value_var:.3f}\")"
   ]
  },
  {
   "cell_type": "code",
   "execution_count": 11,
   "metadata": {},
   "outputs": [
    {
     "name": "stdout",
     "output_type": "stream",
     "text": [
      "Testing Normality for Each Genotype:\n",
      "Genotype 1: p-value = 0.401\n",
      "Genotype 2: p-value = 0.676\n",
      "Genotype 3: p-value = 0.576\n",
      "Genotype 4: p-value = 0.576\n",
      "Genotype 5: p-value = 0.994\n",
      "Genotype 6: p-value = 0.549\n",
      "\n",
      "Levene's test for equal variances: p-value = 0.939\n"
     ]
    }
   ],
   "source": [
    "# I like this version more based on the practices\n",
    "\n",
    "groups = [df[df['Genotype'] == g]['Growth_cm'].values for g in df['Genotype'].unique()]\n",
    "normality = {}\n",
    "\n",
    "# Loop through each genotype and save normality p-value to dictionary\n",
    "for idx, group in enumerate(groups):\n",
    "    stat, p_value = stats.shapiro(group)\n",
    "    normality[f\"Genotype {idx+1}\"] = p_value\n",
    "\n",
    "# Print nicely\n",
    "print(\"Testing Normality for Each Genotype:\")\n",
    "for genotype, p in normality.items():\n",
    "    print(f\"{genotype}: p-value = {p:.3f}\")\n",
    "\n",
    "# Test homogeneity of variances using Levene's test\n",
    "stat, p_value_var = stats.levene(*groups)\n",
    "print(f\"\\nLevene's test for equal variances: p-value = {p_value_var:.3f}\")"
   ]
  },
  {
   "cell_type": "markdown",
   "metadata": {},
   "source": [
    "### Step 5: Perform the ANOVA\n",
    "\n",
    "Now you need to import and perform the one-way ANOVA. Use scipy.stats library for the ANOVA test. \n",
    "\n",
    "Scipy documentation for [f_oneway ANOVA Test]((https://docs.scipy.org/doc/scipy/reference/generated/scipy.stats.f_oneway.html))"
   ]
  },
  {
   "cell_type": "markdown",
   "metadata": {},
   "source": [
    "All genotypes passed normality (p > 0.05), and Levene’s test showed equal variances (p = 0.939). ANOVA assumptions are met."
   ]
  },
  {
   "cell_type": "code",
   "execution_count": 12,
   "metadata": {},
   "outputs": [],
   "source": [
    "# CodeGrade step5\n",
    "# Import test function\n",
    "from scipy.stats import f_oneway\n",
    "\n",
    "# Perform one-way ANOVA\n",
    "f_stat, anova_p = stats.f_oneway(*groups)"
   ]
  },
  {
   "cell_type": "code",
   "execution_count": 13,
   "metadata": {},
   "outputs": [
    {
     "name": "stdout",
     "output_type": "stream",
     "text": [
      "One-way ANOVA Results:\n",
      "F-statistic: 320.3121\n",
      "p-value: 0.0000\n"
     ]
    }
   ],
   "source": [
    "# Run this cell without changes to display results\n",
    "print(\"One-way ANOVA Results:\")\n",
    "print(f\"F-statistic: {f_stat:.4f}\")\n",
    "print(f\"p-value: {anova_p:.4f}\")"
   ]
  },
  {
   "cell_type": "markdown",
   "metadata": {},
   "source": [
    "The test found a statistically significant difference in mean growth among genotypes (F = 320.31 {large enough} and p < 0.001)"
   ]
  },
  {
   "cell_type": "markdown",
   "metadata": {},
   "source": [
    "### Step 6: Post-hoc Analysis\n",
    "\n",
    "Recall that the ANOVA is an Omnibus test, meaning that it cannot tell us where specific differences lie between each group. After performing the ANOVA and reciecing a significant result, you need to resort to a post-hoc test. Conduct a Tukey's HSD test to identify specific group differences.\n",
    "\n",
    "Scipy documentation for [tukey_hsd Test](https://docs.scipy.org/doc/scipy/reference/generated/scipy.stats.tukey_hsd.html)"
   ]
  },
  {
   "cell_type": "code",
   "execution_count": 14,
   "metadata": {},
   "outputs": [],
   "source": [
    "# CodeGrade step6\n",
    "# Import the requires test function\n",
    "from statsmodels.stats.multicomp import pairwise_tukeyhsd\n",
    "\n",
    "all_data = df['Growth_cm'].values\n",
    "labels = df['Genotype'].values\n",
    "\n",
    "# Perform Tukey's HSD test (you can use the 'groups' object)\n",
    "result_hsd = pairwise_tukeyhsd(all_data, labels)"
   ]
  },
  {
   "cell_type": "code",
   "execution_count": 15,
   "metadata": {},
   "outputs": [
    {
     "name": "stdout",
     "output_type": "stream",
     "text": [
      "Multiple Comparison of Means - Tukey HSD, FWER=0.05 \n",
      "====================================================\n",
      "group1 group2 meandiff p-adj   lower   upper  reject\n",
      "----------------------------------------------------\n",
      "    G1     G2     0.21    0.0  0.1388  0.2812   True\n",
      "    G1     G3   0.5407    0.0  0.4695  0.6119   True\n",
      "    G1     G4   0.4105    0.0  0.3393  0.4817   True\n",
      "    G1     G5  -0.1073 0.0003 -0.1785 -0.0361   True\n",
      "    G1     G6   0.7065    0.0  0.6353  0.7777   True\n",
      "    G2     G3   0.3307    0.0  0.2595  0.4019   True\n",
      "    G2     G4   0.2005    0.0  0.1293  0.2717   True\n",
      "    G2     G5  -0.3173    0.0 -0.3885 -0.2461   True\n",
      "    G2     G6   0.4965    0.0  0.4253  0.5677   True\n",
      "    G3     G4  -0.1301    0.0 -0.2013 -0.0589   True\n",
      "    G3     G5   -0.648    0.0 -0.7192 -0.5768   True\n",
      "    G3     G6   0.1659    0.0  0.0947  0.2371   True\n",
      "    G4     G5  -0.5179    0.0 -0.5891 -0.4467   True\n",
      "    G4     G6    0.296    0.0  0.2248  0.3672   True\n",
      "    G5     G6   0.8139    0.0  0.7427  0.8851   True\n",
      "----------------------------------------------------\n"
     ]
    }
   ],
   "source": [
    "# Run this cell without changes to display result\n",
    "print(result_hsd)"
   ]
  },
  {
   "cell_type": "markdown",
   "metadata": {},
   "source": [
    "Tukey's post-hoc test confirms that all coral genotypes differ significantly in mean growth, with every pairwise comparison showing p < 0.001."
   ]
  },
  {
   "cell_type": "markdown",
   "metadata": {},
   "source": [
    "### Step 7: Effect Size Analysis\n",
    "In statistical analysis, we're not just interested in whether there are differences between groups (which we test with ANOVA), but also in how large these differences are. Effect size helps us understand the practical significance of our results. For our coral growth study, we'll use eta-squared (η²), which tells us what proportion of the total variance in growth rates can be explained by genotype differences.\n",
    "\n",
    "Calculate Eta-squared (η²)\n",
    "- η² = SS_between / SS_total\n",
    "\n",
    "Where:\n",
    "\n",
    "- SS_between is the sum of squares between groups\n",
    "- SS_total is the total sum of squares\n",
    "\n",
    "Calculate this step by step:"
   ]
  },
  {
   "cell_type": "code",
   "execution_count": 16,
   "metadata": {},
   "outputs": [],
   "source": [
    "# CodeGrade step7\n",
    "# First, calculate the grand mean and group means\n",
    "grand_mean = df['Growth_cm'].mean()\n",
    "\n",
    "# Use groupby to get means for each as a pandas series (DO NOT use the same groupby object from above)\n",
    "genotype_means = df.groupby('Genotype')['Growth_cm'].mean()\n",
    "\n",
    "# Calculate SS_between (use more lines if needed)\n",
    "ss_between = sum(len(df[df['Genotype'] == g]) * (group_mean - grand_mean) ** 2 for g, group_mean in genotype_means.items())\n",
    "\n",
    "# Calculate SS_total\n",
    "ss_total = sum((df['Growth_cm'] - grand_mean) ** 2)\n",
    "\n",
    "# Calculate eta-squared\n",
    "eta_squared = ss_between / ss_total"
   ]
  },
  {
   "cell_type": "code",
   "execution_count": 17,
   "metadata": {},
   "outputs": [
    {
     "data": {
      "text/plain": [
       "0.3485016592988382"
      ]
     },
     "execution_count": 17,
     "metadata": {},
     "output_type": "execute_result"
    }
   ],
   "source": [
    "eta_squared"
   ]
  },
  {
   "cell_type": "markdown",
   "metadata": {},
   "source": [
    "### Conclusion: Interpreting the Effect Size\n",
    "Now let's interpret our eta-squared value. Generally, for eta-squared:\n",
    "\n",
    "- Small effect: η² ≈ 0.01 (1% of variance explained)\n",
    "- Medium effect: η² ≈ 0.06 (6% of variance explained)\n",
    "- Large effect: η² ≈ 0.14 (14% of variance explained)"
   ]
  },
  {
   "cell_type": "code",
   "execution_count": 18,
   "metadata": {},
   "outputs": [
    {
     "name": "stdout",
     "output_type": "stream",
     "text": [
      "Grand mean: 2.7961336676836672\n",
      "\n",
      "Genotype means:\n",
      "Genotype\n",
      "G1    2.502735\n",
      "G2    2.712730\n",
      "G3    3.043394\n",
      "G4    2.913275\n",
      "G5    2.395393\n",
      "G6    3.209274\n",
      "Name: Growth_cm, dtype: float64\n",
      "\n",
      "Coral Growth Analysis Report\n",
      "\n",
      "1. Data Overview:\n",
      "Our analysis examined growth rates across six coral genotypes, with 500 samples total (50 trees × 10 fragments per genotype). \n",
      "Initial exploration showed varying growth patterns among genotypes, with mean growth rates ranging from [X] to [Y] cm.\n",
      "\n",
      "2. ANOVA Results:\n",
      "The one-way ANOVA revealed significant differences in growth rates among genotypes (F = 320.3121, p = 0.0000). \n",
      "The effect size (η² = 0.3485) indicates that approximately 34.9% of the variance in growth rates is explained by genotype differences.\n",
      "\n",
      "3. Post-hoc Analysis:\n",
      "Tukey's HSD test identified major significant pairwise differences across all genotpyes indicting a strong relationship and warranting further investigations into genotypic diversity\n",
      "\n",
      "4. Recommendations for Restoration Program:\n",
      "Based on our analysis:\n",
      "a) Genotype 6 showed the highest mean growth rate and consistent performance\n",
      "b) Genotypes 3 and 4 also performed well and could be considered as secondary options\n",
      "c) Genotype 5 showed the poorest performance and may not be suitable for large-scale restoration\n",
      "\n",
      "6. Future Considerations:\n",
      "- Consider running extended trials with top-performing genotypes\n",
      "- Monitor environmental variables that might interact with genotype performance\n",
      "- Investigate potential trade-offs between growth rate and other important characteristics (e.g., disease resistance)\n",
      "\n",
      "This analysis provides strong statistical evidence for prioritizing certain genotypes in future restoration efforts, while maintaining genetic diversity through the use of multiple well-performing strains.\n",
      "\n"
     ]
    }
   ],
   "source": [
    "# Run this cell without changes to display the report result\n",
    "analysis_report = f\"\"\"\n",
    "Coral Growth Analysis Report\n",
    "\n",
    "1. Data Overview:\n",
    "Our analysis examined growth rates across six coral genotypes, with 500 samples total (50 trees × 10 fragments per genotype). \n",
    "Initial exploration showed varying growth patterns among genotypes, with mean growth rates ranging from [X] to [Y] cm.\n",
    "\n",
    "2. ANOVA Results:\n",
    "The one-way ANOVA revealed significant differences in growth rates among genotypes (F = {f_stat:.4f}, p = {anova_p:.4f}). \n",
    "The effect size (η² = {eta_squared:.4f}) indicates that approximately {eta_squared*100:.1f}% of the variance in growth rates is explained by genotype differences.\n",
    "\n",
    "3. Post-hoc Analysis:\n",
    "Tukey's HSD test identified major significant pairwise differences across all genotpyes indicting a strong relationship and warranting further investigations into genotypic diversity\n",
    "\n",
    "4. Recommendations for Restoration Program:\n",
    "Based on our analysis:\n",
    "a) Genotype 6 showed the highest mean growth rate and consistent performance\n",
    "b) Genotypes 3 and 4 also performed well and could be considered as secondary options\n",
    "c) Genotype 5 showed the poorest performance and may not be suitable for large-scale restoration\n",
    "\n",
    "6. Future Considerations:\n",
    "- Consider running extended trials with top-performing genotypes\n",
    "- Monitor environmental variables that might interact with genotype performance\n",
    "- Investigate potential trade-offs between growth rate and other important characteristics (e.g., disease resistance)\n",
    "\n",
    "This analysis provides strong statistical evidence for prioritizing certain genotypes in future restoration efforts, while maintaining genetic diversity through the use of multiple well-performing strains.\n",
    "\"\"\"\n",
    "print(\"Grand mean:\", grand_mean)\n",
    "print(\"\\nGenotype means:\")\n",
    "print(genotype_means)\n",
    "print(analysis_report)"
   ]
  },
  {
   "cell_type": "code",
   "execution_count": null,
   "metadata": {},
   "outputs": [],
   "source": []
  }
 ],
 "metadata": {
  "kernelspec": {
   "display_name": "Python (base)",
   "language": "python",
   "name": "base"
  },
  "language_info": {
   "codemirror_mode": {
    "name": "ipython",
    "version": 3
   },
   "file_extension": ".py",
   "mimetype": "text/x-python",
   "name": "python",
   "nbconvert_exporter": "python",
   "pygments_lexer": "ipython3",
   "version": "3.11.11"
  }
 },
 "nbformat": 4,
 "nbformat_minor": 4
}
