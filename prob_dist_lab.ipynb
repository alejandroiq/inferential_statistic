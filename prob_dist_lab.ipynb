{
 "cells": [
  {
   "cell_type": "markdown",
   "metadata": {},
   "source": [
    "# Probability and Distributions Lab:\n",
    "## Beverage Filling Process\n",
    "You're working as a junior quality analyst at a beverage company that produces 12-ounce soft drinks. The filling process naturally has some variation, and underfilled bottles lead to customer complaints while overfilled bottles waste product. Your supervisor has asked you to analyze the filling data. You will first address initial probability word problem questions using hypothetical data and the varying laws of probability. These scenarios represent potential uses of conditional probability and bayes theorem. \n",
    "\n",
    "Next you will move into conducting an analysis of fill data using properties of the normal distribution. Recent studies suggest that customers notice when bottles are underfilled by more than 0.3 ounces, while overfilling by more than 0.2 ounces impacts company profits. This information has been used to set quality control rejection limits of 11.7 and 12.2 oz. You'll need to analyze the fill amounts, determine if they follow a normal distribution, and establish if the company’s current fill process is within acceptable control limits. They would like to achieve a maximum rejection percentage of 5%.\n",
    "\n",
    "Your analysis needs to answer three key questions:\n",
    "- Does the filling process follow a normal distribution?\n",
    "- What are the probabilities of under-filling (less than 11.7 oz) or over-filling (more than 12.2 oz)?\n",
    "- Is the current fill process below the maximum rejection percentage of 5%?\n",
    "\n",
    "\n"
   ]
  },
  {
   "cell_type": "code",
   "execution_count": 1,
   "metadata": {},
   "outputs": [],
   "source": [
    "# CodeGrade step0\n",
    "# Run this cell without changes\n",
    "# Import required libraries\n",
    "import numpy as np\n",
    "import pandas as pd\n",
    "import matplotlib.pyplot as plt\n",
    "import scipy.stats as stats"
   ]
  },
  {
   "cell_type": "code",
   "execution_count": 2,
   "metadata": {},
   "outputs": [
    {
     "data": {
      "text/html": [
       "<div>\n",
       "<style scoped>\n",
       "    .dataframe tbody tr th:only-of-type {\n",
       "        vertical-align: middle;\n",
       "    }\n",
       "\n",
       "    .dataframe tbody tr th {\n",
       "        vertical-align: top;\n",
       "    }\n",
       "\n",
       "    .dataframe thead th {\n",
       "        text-align: right;\n",
       "    }\n",
       "</style>\n",
       "<table border=\"1\" class=\"dataframe\">\n",
       "  <thead>\n",
       "    <tr style=\"text-align: right;\">\n",
       "      <th></th>\n",
       "      <th>timestamp</th>\n",
       "      <th>fill_amount</th>\n",
       "    </tr>\n",
       "  </thead>\n",
       "  <tbody>\n",
       "    <tr>\n",
       "      <th>0</th>\n",
       "      <td>2024-01-15 08:00:00</td>\n",
       "      <td>12.049671</td>\n",
       "    </tr>\n",
       "    <tr>\n",
       "      <th>1</th>\n",
       "      <td>2024-01-15 08:00:30</td>\n",
       "      <td>11.986224</td>\n",
       "    </tr>\n",
       "    <tr>\n",
       "      <th>2</th>\n",
       "      <td>2024-01-15 08:01:00</td>\n",
       "      <td>12.064869</td>\n",
       "    </tr>\n",
       "    <tr>\n",
       "      <th>3</th>\n",
       "      <td>2024-01-15 08:01:30</td>\n",
       "      <td>12.152453</td>\n",
       "    </tr>\n",
       "    <tr>\n",
       "      <th>4</th>\n",
       "      <td>2024-01-15 08:02:00</td>\n",
       "      <td>11.976785</td>\n",
       "    </tr>\n",
       "    <tr>\n",
       "      <th>...</th>\n",
       "      <td>...</td>\n",
       "      <td>...</td>\n",
       "    </tr>\n",
       "    <tr>\n",
       "      <th>995</th>\n",
       "      <td>2024-01-15 16:17:30</td>\n",
       "      <td>12.021690</td>\n",
       "    </tr>\n",
       "    <tr>\n",
       "      <th>996</th>\n",
       "      <td>2024-01-15 16:18:00</td>\n",
       "      <td>12.229619</td>\n",
       "    </tr>\n",
       "    <tr>\n",
       "      <th>997</th>\n",
       "      <td>2024-01-15 16:18:30</td>\n",
       "      <td>12.113984</td>\n",
       "    </tr>\n",
       "    <tr>\n",
       "      <th>998</th>\n",
       "      <td>2024-01-15 16:19:00</td>\n",
       "      <td>11.992832</td>\n",
       "    </tr>\n",
       "    <tr>\n",
       "      <th>999</th>\n",
       "      <td>2024-01-15 16:19:30</td>\n",
       "      <td>12.107258</td>\n",
       "    </tr>\n",
       "  </tbody>\n",
       "</table>\n",
       "<p>1000 rows × 2 columns</p>\n",
       "</div>"
      ],
      "text/plain": [
       "               timestamp  fill_amount\n",
       "0    2024-01-15 08:00:00    12.049671\n",
       "1    2024-01-15 08:00:30    11.986224\n",
       "2    2024-01-15 08:01:00    12.064869\n",
       "3    2024-01-15 08:01:30    12.152453\n",
       "4    2024-01-15 08:02:00    11.976785\n",
       "..                   ...          ...\n",
       "995  2024-01-15 16:17:30    12.021690\n",
       "996  2024-01-15 16:18:00    12.229619\n",
       "997  2024-01-15 16:18:30    12.113984\n",
       "998  2024-01-15 16:19:00    11.992832\n",
       "999  2024-01-15 16:19:30    12.107258\n",
       "\n",
       "[1000 rows x 2 columns]"
      ]
     },
     "execution_count": 2,
     "metadata": {},
     "output_type": "execute_result"
    }
   ],
   "source": [
    "data = pd.read_csv('bottle_fills.csv')\n",
    "data"
   ]
  },
  {
   "cell_type": "code",
   "execution_count": 3,
   "metadata": {},
   "outputs": [
    {
     "data": {
      "image/png": "[encoded data removed]",
      "text/plain": [
       "<Figure size 640x480 with 1 Axes>"
      ]
     },
     "metadata": {},
     "output_type": "display_data"
    }
   ],
   "source": [
    "plt.hist(data['fill_amount'], bins=20, edgecolor='black')\n",
    "\n",
    "plt.title('Distribution of Fill Amounts')\n",
    "plt.xlabel('Fill Amount')\n",
    "plt.ylabel('Frequency')\n",
    "\n",
    "plt.show()"
   ]
  },
  {
   "cell_type": "code",
   "execution_count": 4,
   "metadata": {},
   "outputs": [
    {
     "data": {
      "image/png": "[encoded data removed]",
      "text/plain": [
       "<Figure size 640x480 with 1 Axes>"
      ]
     },
     "metadata": {},
     "output_type": "display_data"
    }
   ],
   "source": [
    "# Q-Q\n",
    "# the q-q plot shows most of the data falls on the read line with few outliers, so I will take everthing as normal distribution\n",
    "\n",
    "stats.probplot(data['fill_amount'], dist=\"norm\", plot=plt)\n",
    "plt.title(\"Q-Q Plot for Fill Amounts\")\n",
    "plt.show()"
   ]
  },
  {
   "cell_type": "code",
   "execution_count": 5,
   "metadata": {},
   "outputs": [
    {
     "data": {
      "text/plain": [
       "12.02723333476538"
      ]
     },
     "execution_count": 5,
     "metadata": {},
     "output_type": "execute_result"
    }
   ],
   "source": [
    "mean = np.mean(data['fill_amount'])\n",
    "mean"
   ]
  },
  {
   "cell_type": "code",
   "execution_count": 6,
   "metadata": {},
   "outputs": [
    {
     "data": {
      "text/plain": [
       "0.10829788233343839"
      ]
     },
     "execution_count": 6,
     "metadata": {},
     "output_type": "execute_result"
    }
   ],
   "source": [
    "std = np.std(data['fill_amount'])\n",
    "std"
   ]
  },
  {
   "cell_type": "code",
   "execution_count": 7,
   "metadata": {},
   "outputs": [
    {
     "data": {
      "text/plain": [
       "0.001257195468529117"
      ]
     },
     "execution_count": 7,
     "metadata": {},
     "output_type": "execute_result"
    }
   ],
   "source": [
    "# Probability under the 11.7\n",
    "p_under = stats.norm.cdf(11.7, loc=mean, scale=std)\n",
    "p_under"
   ]
  },
  {
   "cell_type": "code",
   "execution_count": 8,
   "metadata": {},
   "outputs": [
    {
     "data": {
      "text/plain": [
       "0.055323559496119556"
      ]
     },
     "execution_count": 8,
     "metadata": {},
     "output_type": "execute_result"
    }
   ],
   "source": [
    "# Probability above 12.2\n",
    "p_over = 1 - stats.norm.cdf(12.2, loc=mean, scale=std)\n",
    "p_over"
   ]
  },
  {
   "cell_type": "code",
   "execution_count": 9,
   "metadata": {},
   "outputs": [
    {
     "data": {
      "text/plain": [
       "0.05658075496464867"
      ]
     },
     "execution_count": 9,
     "metadata": {},
     "output_type": "execute_result"
    }
   ],
   "source": [
    "# add both for total rejection\n",
    "p_over + p_under "
   ]
  },
  {
   "cell_type": "markdown",
   "metadata": {},
   "source": [
    "Is the current fill process below the maximum rejection percentage of 5%?\n",
    "\n",
    "No"
   ]
  },
  {
   "cell_type": "markdown",
   "metadata": {},
   "source": [
    "## Probability Word Problems\n",
    "\n",
    "\n",
    "### Scenario 1\n",
    "In your initial analysis of the filling process, you examine two production lines (A and B). When analyzing a day's data:\n",
    "\n",
    "- 40% of bottles come from Line A\n",
    "- 60% of bottles come from Line B\n",
    "- 3% of Line A bottles are outside specification limits\n",
    "- 2% of Line B bottles are outside specification limits\n",
    "\n",
    "If a bottle is randomly selected and found to be outside specification limits, what is the probability it came from Line A?"
   ]
  },
  {
   "cell_type": "code",
   "execution_count": 10,
   "metadata": {},
   "outputs": [
    {
     "data": {
      "text/plain": [
       "0.5"
      ]
     },
     "execution_count": 10,
     "metadata": {},
     "output_type": "execute_result"
    }
   ],
   "source": [
    "# CodeGrade step1\n",
    "prob_one = None\n",
    "\n",
    "P_A = 0.4\n",
    "P_B = 0.6\n",
    "P_A_out = 0.03\n",
    "P_B_out = 0.02\n",
    "\n",
    "P_out = P_A_out*P_A + P_B_out*P_B\n",
    "\n",
    "P_A_is_out = P_A_out*P_A / P_out\n",
    "P_A_is_out"
   ]
  },
  {
   "cell_type": "markdown",
   "metadata": {},
   "source": [
    "### Scenario 2\n",
    "Your team needs to assess a possible mechanical issue with Line A. From maintenance records and historical data, you know:\n",
    "\n",
    "- The baseline probability of Line A having a mechanical issue on any given day is 5% (prior probability)\n",
    "- When Line A has a mechanical issue, 80% of daily samples show high volume variability\n",
    "- When Line A is operating normally, only 10% of daily samples show high volume variability\n",
    "\n",
    "Today's quality report shows high volume variability in the samples. What is the probability that Line A has a mechanical issue?"
   ]
  },
  {
   "cell_type": "code",
   "execution_count": 11,
   "metadata": {},
   "outputs": [
    {
     "data": {
      "text/plain": [
       "0.29629629629629634"
      ]
     },
     "execution_count": 11,
     "metadata": {},
     "output_type": "execute_result"
    }
   ],
   "source": [
    "# CodeGrade step2\n",
    "prob_two = None\n",
    "\n",
    "P_issue = 0.05\n",
    "P_no_issue = 1 - P_issue\n",
    "P_A_issue = 0.8\n",
    "P_A_no_issue = 0.10\n",
    "\n",
    "P_issue = P_A_issue * P_issue / (P_A_issue * P_issue + P_A_no_issue * P_no_issue)\n",
    "P_issue"
   ]
  },
  {
   "cell_type": "markdown",
   "metadata": {},
   "source": [
    "### Scenario 3\n",
    "The quality team has implemented a new inspection system that takes two measurements of each bottle. From analyzing recent data:\n",
    "\n",
    "- 95% of truly underfilled bottles (<11.7 oz) are correctly identified as underfilled on the first measurement\n",
    "- 98% of properly filled bottles are correctly identified as proper on the first measurement\n",
    "- If a bottle fails the first measurement, it is measured again\n",
    "- 90% of truly underfilled bottles are identified correctly on the second measurement\n",
    "- 95% of properly filled bottles are identified correctly on the second measurement\n",
    "- 3% of all bottles are underfilled based on prior information\n",
    "\n",
    "If a bottle fails both measurements, what is the probability that it is actually underfilled? Treat each test as independent. \n",
    "\n",
    "This problem involves multiple conditional probabilities. \n",
    "\n",
    "Use Bayes' Theorem:\n",
    "\n",
    "P(Underfilled | Both Fail) = P(Both Fail | Underfilled) × P(Underfilled) / P(Both Fail)"
   ]
  },
  {
   "cell_type": "code",
   "execution_count": 12,
   "metadata": {},
   "outputs": [
    {
     "data": {
      "text/plain": [
       "0.9635612321562735"
      ]
     },
     "execution_count": 12,
     "metadata": {},
     "output_type": "execute_result"
    }
   ],
   "source": [
    "# CodeGrade step3\n",
    "prob_three = None\n",
    "\n",
    "P_under = 0.03\n",
    "P_good = 1 - P_under\n",
    "\n",
    "# Both Failing\n",
    "P_fail_both_under = 0.95 * 0.9\n",
    "P_fail_both_proper = 0.02 * 0.05\n",
    "\n",
    "# Total\n",
    "P_fail_both_tot = P_fail_both_under * P_under + P_fail_both_proper  * P_good\n",
    "\n",
    "# P(Underfilled | Both Fail) = P(Both Fail | Underfilled) × P(Underfilled) / P(Both Fail)\n",
    "P_under_both_fail = P_fail_both_under * P_under / P_fail_both_tot\n",
    "P_under_both_fail"
   ]
  },
  {
   "cell_type": "markdown",
   "metadata": {},
   "source": [
    "## Data Analysis Setup"
   ]
  },
  {
   "cell_type": "markdown",
   "metadata": {},
   "source": [
    "### Load in the Data\n",
    "\n",
    "Load the bottle_fills.csv file using pandas."
   ]
  },
  {
   "cell_type": "markdown",
   "metadata": {},
   "source": [
    "<div style=\"background-color:#fff5e6; padding:15px; border-radius:8px\">\n",
    "\n",
    "It didn't say I need to use other than pandas in the previous part"
   ]
  },
  {
   "cell_type": "code",
   "execution_count": 13,
   "metadata": {},
   "outputs": [
    {
     "data": {
      "text/html": [
       "<div>\n",
       "<style scoped>\n",
       "    .dataframe tbody tr th:only-of-type {\n",
       "        vertical-align: middle;\n",
       "    }\n",
       "\n",
       "    .dataframe tbody tr th {\n",
       "        vertical-align: top;\n",
       "    }\n",
       "\n",
       "    .dataframe thead th {\n",
       "        text-align: right;\n",
       "    }\n",
       "</style>\n",
       "<table border=\"1\" class=\"dataframe\">\n",
       "  <thead>\n",
       "    <tr style=\"text-align: right;\">\n",
       "      <th></th>\n",
       "      <th>timestamp</th>\n",
       "      <th>fill_amount</th>\n",
       "    </tr>\n",
       "  </thead>\n",
       "  <tbody>\n",
       "    <tr>\n",
       "      <th>0</th>\n",
       "      <td>2024-01-15 08:00:00</td>\n",
       "      <td>12.049671</td>\n",
       "    </tr>\n",
       "    <tr>\n",
       "      <th>1</th>\n",
       "      <td>2024-01-15 08:00:30</td>\n",
       "      <td>11.986224</td>\n",
       "    </tr>\n",
       "    <tr>\n",
       "      <th>2</th>\n",
       "      <td>2024-01-15 08:01:00</td>\n",
       "      <td>12.064869</td>\n",
       "    </tr>\n",
       "    <tr>\n",
       "      <th>3</th>\n",
       "      <td>2024-01-15 08:01:30</td>\n",
       "      <td>12.152453</td>\n",
       "    </tr>\n",
       "    <tr>\n",
       "      <th>4</th>\n",
       "      <td>2024-01-15 08:02:00</td>\n",
       "      <td>11.976785</td>\n",
       "    </tr>\n",
       "    <tr>\n",
       "      <th>...</th>\n",
       "      <td>...</td>\n",
       "      <td>...</td>\n",
       "    </tr>\n",
       "    <tr>\n",
       "      <th>995</th>\n",
       "      <td>2024-01-15 16:17:30</td>\n",
       "      <td>12.021690</td>\n",
       "    </tr>\n",
       "    <tr>\n",
       "      <th>996</th>\n",
       "      <td>2024-01-15 16:18:00</td>\n",
       "      <td>12.229619</td>\n",
       "    </tr>\n",
       "    <tr>\n",
       "      <th>997</th>\n",
       "      <td>2024-01-15 16:18:30</td>\n",
       "      <td>12.113984</td>\n",
       "    </tr>\n",
       "    <tr>\n",
       "      <th>998</th>\n",
       "      <td>2024-01-15 16:19:00</td>\n",
       "      <td>11.992832</td>\n",
       "    </tr>\n",
       "    <tr>\n",
       "      <th>999</th>\n",
       "      <td>2024-01-15 16:19:30</td>\n",
       "      <td>12.107258</td>\n",
       "    </tr>\n",
       "  </tbody>\n",
       "</table>\n",
       "<p>1000 rows × 2 columns</p>\n",
       "</div>"
      ],
      "text/plain": [
       "               timestamp  fill_amount\n",
       "0    2024-01-15 08:00:00    12.049671\n",
       "1    2024-01-15 08:00:30    11.986224\n",
       "2    2024-01-15 08:01:00    12.064869\n",
       "3    2024-01-15 08:01:30    12.152453\n",
       "4    2024-01-15 08:02:00    11.976785\n",
       "..                   ...          ...\n",
       "995  2024-01-15 16:17:30    12.021690\n",
       "996  2024-01-15 16:18:00    12.229619\n",
       "997  2024-01-15 16:18:30    12.113984\n",
       "998  2024-01-15 16:19:00    11.992832\n",
       "999  2024-01-15 16:19:30    12.107258\n",
       "\n",
       "[1000 rows x 2 columns]"
      ]
     },
     "execution_count": 13,
     "metadata": {},
     "output_type": "execute_result"
    }
   ],
   "source": [
    "# CodeGrade step4\n",
    "# Your code to load the data\n",
    "data_df = pd.read_csv('bottle_fills.csv')\n",
    "data_df"
   ]
  },
  {
   "cell_type": "markdown",
   "metadata": {},
   "source": [
    "### Examine the data (basic statistics)\n",
    "\n",
    "Examine the dataset and create visualizations to understand the distribution."
   ]
  },
  {
   "cell_type": "code",
   "execution_count": 14,
   "metadata": {},
   "outputs": [
    {
     "data": {
      "text/html": [
       "<div>\n",
       "<style scoped>\n",
       "    .dataframe tbody tr th:only-of-type {\n",
       "        vertical-align: middle;\n",
       "    }\n",
       "\n",
       "    .dataframe tbody tr th {\n",
       "        vertical-align: top;\n",
       "    }\n",
       "\n",
       "    .dataframe thead th {\n",
       "        text-align: right;\n",
       "    }\n",
       "</style>\n",
       "<table border=\"1\" class=\"dataframe\">\n",
       "  <thead>\n",
       "    <tr style=\"text-align: right;\">\n",
       "      <th></th>\n",
       "      <th>fill_amount</th>\n",
       "    </tr>\n",
       "  </thead>\n",
       "  <tbody>\n",
       "    <tr>\n",
       "      <th>count</th>\n",
       "      <td>1000.000000</td>\n",
       "    </tr>\n",
       "    <tr>\n",
       "      <th>mean</th>\n",
       "      <td>12.027233</td>\n",
       "    </tr>\n",
       "    <tr>\n",
       "      <th>std</th>\n",
       "      <td>0.108352</td>\n",
       "    </tr>\n",
       "    <tr>\n",
       "      <th>min</th>\n",
       "      <td>11.611045</td>\n",
       "    </tr>\n",
       "    <tr>\n",
       "      <th>25%</th>\n",
       "      <td>11.958052</td>\n",
       "    </tr>\n",
       "    <tr>\n",
       "      <th>50%</th>\n",
       "      <td>12.028160</td>\n",
       "    </tr>\n",
       "    <tr>\n",
       "      <th>75%</th>\n",
       "      <td>12.091863</td>\n",
       "    </tr>\n",
       "    <tr>\n",
       "      <th>max</th>\n",
       "      <td>12.888700</td>\n",
       "    </tr>\n",
       "  </tbody>\n",
       "</table>\n",
       "</div>"
      ],
      "text/plain": [
       "       fill_amount\n",
       "count  1000.000000\n",
       "mean     12.027233\n",
       "std       0.108352\n",
       "min      11.611045\n",
       "25%      11.958052\n",
       "50%      12.028160\n",
       "75%      12.091863\n",
       "max      12.888700"
      ]
     },
     "execution_count": 14,
     "metadata": {},
     "output_type": "execute_result"
    }
   ],
   "source": [
    "# CodeGrade step5\n",
    "# Quick and dirty look using pandas to get summary statistics\n",
    "basic_stats_describe = data_df.describe()\n",
    "basic_stats_describe"
   ]
  },
  {
   "cell_type": "code",
   "execution_count": 15,
   "metadata": {},
   "outputs": [
    {
     "data": {
      "image/png": "[encoded data removed]",
      "text/plain": [
       "<Figure size 1000x600 with 1 Axes>"
      ]
     },
     "metadata": {},
     "output_type": "display_data"
    }
   ],
   "source": [
    "# CodeGrade step6\n",
    "# Create a histogram with normal curve overlay\n",
    "bins = 'auto'\n",
    "data = data_df['fill_amount']\n",
    "\n",
    "# Create histogram using plt.hist()\n",
    "plt.figure(figsize=(10, 6))\n",
    "histogram_answer = data_df['fill_amount'].plot(kind='hist', density=True, alpha=0.7)\n",
    "\n",
    "# Calculate parameters for normal distribution overlay (use data variable or basic_stats_describe object)\n",
    "mean = data_df['fill_amount'].mean()\n",
    "std = data_df['fill_amount'].std()\n",
    "\n",
    "# Add normal curve overlay using plt.plot()\n",
    "x = np.linspace(data_df['fill_amount'].min(), data_df['fill_amount'].max(), 100)\n",
    "p = stats.norm.pdf(x, np.mean(data_df['fill_amount']), np.std(data_df['fill_amount']))\n",
    "plt.plot(x, p, 'r', linewidth=2)\n",
    "\n",
    "# Display visual\n",
    "plt.title('Distribution of Bottle Fill Amounts')\n",
    "plt.xlabel('Fill Amount (oz)')\n",
    "plt.ylabel('Frequency')\n",
    "plt.grid(True, alpha=0.3)\n",
    "plt.show()"
   ]
  },
  {
   "cell_type": "markdown",
   "metadata": {},
   "source": [
    "### Verify Empirical Rule Application\n",
    "Now let's verify if our data follows a normal distribution using the Empirical Rule."
   ]
  },
  {
   "cell_type": "code",
   "execution_count": 16,
   "metadata": {},
   "outputs": [],
   "source": [
    "# CodeGrade step7\n",
    "data = data_df['fill_amount']\n",
    "mean = np.mean(data)\n",
    "std = np.std(data)\n",
    "\n",
    "# Calculate percentage of data within 1, 2, and 3 standard deviations\n",
    "one_sd = np.mean(np.abs(data - mean) <= std)\n",
    "two_sd = np.mean(np.abs(data - mean) <= 2*std)\n",
    "three_sd = np.mean(np.abs(data - mean) <= 3*std)"
   ]
  },
  {
   "cell_type": "code",
   "execution_count": 17,
   "metadata": {},
   "outputs": [
    {
     "name": "stdout",
     "output_type": "stream",
     "text": [
      "0.712 0.965 0.992\n"
     ]
    }
   ],
   "source": [
    "# Run this cell without changes to verify\n",
    "print(one_sd, two_sd, three_sd)"
   ]
  },
  {
   "cell_type": "markdown",
   "metadata": {},
   "source": [
    "results = {'mean': mean_duration,'std': std_duration, 'within_1_std': np.mean(np.abs(call_durations - mean_duration) <= std_duration), \n",
    "           'within_2_std': np.mean(np.abs(call_durations - mean_duration) <= 2 * std_duration),\n",
    "           'within_3_std': np.mean(np.abs(call_durations - mean_duration) <= 3 * std_duration)}\n",
    "results"
   ]
  },
  {
   "cell_type": "markdown",
   "metadata": {},
   "source": [
    "While this isn't perfectly normal according to the empirical rule (no real world data is), based on our histogram above and these calculations our data is 'normal enough' to continue."
   ]
  },
  {
   "cell_type": "markdown",
   "metadata": {},
   "source": [
    "## Quality Control Analysis\n",
    "\n",
    "Calculate probabilities of underfilling and overfilling based on specifications.\n",
    "\n",
    "Key considerations:\n",
    "- Customers notice when bottles are underfilled by more than 0.3 ounces\n",
    "- Overfilling by more than 0.2 ounces impacts company profits\n",
    "- You need to analyze fill amounts, verify normal distribution, and compare fills to expected rejections\n",
    "\n",
    "### Probability of Underfilling"
   ]
  },
  {
   "cell_type": "code",
   "execution_count": 18,
   "metadata": {},
   "outputs": [
    {
     "data": {
      "text/plain": [
       "0.001257195468529117"
      ]
     },
     "execution_count": 18,
     "metadata": {},
     "output_type": "execute_result"
    }
   ],
   "source": [
    "# CodeGrade step8\n",
    "# Target fill amount is 12 oz\n",
    "data = data_df['fill_amount']\n",
    "mean = np.mean(data)\n",
    "std = np.std(data)\n",
    "\n",
    "# Calculate probability of underfilling (< 11.7 oz)\n",
    "underf = 11.7\n",
    "z_score_under = (underf - mean)/std                 # stats.zscore(data)\n",
    "\n",
    "# Use normal distribution to calculate probability (times by 100 for percentage numbers)\n",
    "underfill_prob = stats.norm.cdf(z_score_under)\n",
    "underfill_prob"
   ]
  },
  {
   "cell_type": "code",
   "execution_count": 19,
   "metadata": {},
   "outputs": [
    {
     "data": {
      "text/plain": [
       "0.001257195468529117"
      ]
     },
     "execution_count": 19,
     "metadata": {},
     "output_type": "execute_result"
    }
   ],
   "source": [
    "stats.norm.cdf(11.7, loc=mean, scale=std)"
   ]
  },
  {
   "cell_type": "markdown",
   "metadata": {},
   "source": [
    "### Probability of Overfilling"
   ]
  },
  {
   "cell_type": "code",
   "execution_count": 20,
   "metadata": {},
   "outputs": [
    {
     "data": {
      "text/plain": [
       "0.055323559496119556"
      ]
     },
     "execution_count": 20,
     "metadata": {},
     "output_type": "execute_result"
    }
   ],
   "source": [
    "# CodeGrade step9\n",
    "# Target fill amount is 12 oz\n",
    "data = data_df['fill_amount']\n",
    "mean = np.mean(data)\n",
    "std = np.std(data)\n",
    "\n",
    "# Calculate probability of overfilling (> 12.2 oz)\n",
    "overf = 12.2\n",
    "z_score_over = (overf - mean)/std \n",
    "\n",
    "# Use normal distribution to calculate probability (times by 100 for percentage numbers)\n",
    "overfill_prob = 1 - stats.norm.cdf(z_score_over)\n",
    "overfill_prob"
   ]
  },
  {
   "cell_type": "code",
   "execution_count": 21,
   "metadata": {},
   "outputs": [
    {
     "data": {
      "text/plain": [
       "0.055323559496119556"
      ]
     },
     "execution_count": 21,
     "metadata": {},
     "output_type": "execute_result"
    }
   ],
   "source": [
    "1 - stats.norm.cdf(12.2, loc=mean, scale=std)"
   ]
  },
  {
   "cell_type": "markdown",
   "metadata": {},
   "source": [
    "### Acceptable Limits"
   ]
  },
  {
   "cell_type": "code",
   "execution_count": 22,
   "metadata": {},
   "outputs": [
    {
     "data": {
      "text/plain": [
       "0.9434192450353514"
      ]
     },
     "execution_count": 22,
     "metadata": {},
     "output_type": "execute_result"
    }
   ],
   "source": [
    "# CodeGrade step10\n",
    "data = data_df['fill_amount']\n",
    "mean = np.mean(data)\n",
    "std = np.std(data)\n",
    "\n",
    "# Calculate percentage of bottles within acceptable limits\n",
    "acceptable_percentage = 1 - overfill_prob - underfill_prob\n",
    "acceptable_percentage"
   ]
  },
  {
   "cell_type": "markdown",
   "metadata": {},
   "source": [
    "## Recommendations\n",
    "\n",
    "### Total Rejection Rate\n",
    "Does the current process meets the 5% rejection expectation?\n",
    "\n"
   ]
  },
  {
   "cell_type": "code",
   "execution_count": 23,
   "metadata": {},
   "outputs": [
    {
     "data": {
      "text/plain": [
       "False"
      ]
     },
     "execution_count": 23,
     "metadata": {},
     "output_type": "execute_result"
    }
   ],
   "source": [
    "# CodeGrade step11\n",
    "excepted_rate = 0.05\n",
    "\n",
    "# Rate of not accectable fills (can use answers above to calculate)\n",
    "total_rejection_rate = overfill_prob - underfill_prob\n",
    "\n",
    "met_expectations = excepted_rate > total_rejection_rate\n",
    "met_expectations"
   ]
  },
  {
   "cell_type": "markdown",
   "metadata": {},
   "source": [
    "## Submission Instructions\n",
    "\n",
    "1. Make sure all variable initially assigned as 'None' have been filled in with appropriate code or values\n",
    "2. Run all cells to verify your code works without errors\n",
    "3. Save and submit your completed notebook to CG via the canvas assignment page"
   ]
  }
 ],
 "metadata": {
  "kernelspec": {
   "display_name": "Python (base)",
   "language": "python",
   "name": "base"
  },
  "language_info": {
   "codemirror_mode": {
    "name": "ipython",
    "version": 3
   },
   "file_extension": ".py",
   "mimetype": "text/x-python",
   "name": "python",
   "nbconvert_exporter": "python",
   "pygments_lexer": "ipython3",
   "version": "3.11.11"
  }
 },
 "nbformat": 4,
 "nbformat_minor": 4
}
