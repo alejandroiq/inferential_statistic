{
 "cells": [
  {
   "cell_type": "markdown",
   "metadata": {
    "id": "ngA12-VoqbRW"
   },
   "source": [
    "# Parametric vs Non-Parametric Lab\n",
    "\n",
    "## Menu Change - Customer Satisfaction Analysis\n",
    "\n",
    "As a junior data analyst at a consumer research firm, you've been tasked with analyzing customer feedback data from a major restaurant chain's menu redesign initiative. The restaurant has implemented new menu items in select locations and needs to understand their impact.\n",
    "\n",
    "You'll be working with two key datasets:\n",
    "1. Customer satisfaction ratings (1-5 scale) before and after the menu change\n",
    "2. Customer return visit data comparing locations with and without the new menu\n",
    "\n",
    "Using our four-step process, you'll need to determine whether the menu changes have made a significant impact on customer satisfaction and return rates, at an alpha of 0.05.\n",
    "- Assessment\n",
    "- Selection\n",
    "- Implementation\n",
    "- Interpretation\n",
    "\n",
    "## Data Overview\n",
    "\n",
    "Data Files: ratings.csv & return_visits.csv\n",
    "\n",
    "Ratings Columns:\n",
    "- customer_id: unique identifier\n",
    "- before: rating before change\n",
    "- after: rating after change\n",
    "\n",
    "Return Visits Columns:\n",
    "- customer_id: unique identifier\n",
    "- location: New Menu or Old Menu\n",
    "- returned: binary - if customer returned\n",
    "\n",
    "\n",
    "First, let's import the libraries you'll need for our analysis and also load in the data\n"
   ]
  },
  {
   "cell_type": "code",
   "execution_count": 1,
   "metadata": {
    "id": "5upOVBAoqbRX"
   },
   "outputs": [],
   "source": [
    "# CodeGrade step0\n",
    "# Import Required Libraries\n",
    "import numpy as np\n",
    "import pandas as pd\n",
    "from scipy import stats\n",
    "import matplotlib.pyplot as plt\n",
    "import seaborn as sns\n",
    "\n",
    "# Load in both datasets - you will need to have downloaded provided files and placed in same location\n",
    "df_ratings = pd.read_csv('ratings.csv')\n",
    "df_return = pd.read_csv('return_visits.csv')"
   ]
  },
  {
   "cell_type": "code",
   "execution_count": 2,
   "metadata": {},
   "outputs": [
    {
     "data": {
      "text/html": [
       "<div>\n",
       "<style scoped>\n",
       "    .dataframe tbody tr th:only-of-type {\n",
       "        vertical-align: middle;\n",
       "    }\n",
       "\n",
       "    .dataframe tbody tr th {\n",
       "        vertical-align: top;\n",
       "    }\n",
       "\n",
       "    .dataframe thead th {\n",
       "        text-align: right;\n",
       "    }\n",
       "</style>\n",
       "<table border=\"1\" class=\"dataframe\">\n",
       "  <thead>\n",
       "    <tr style=\"text-align: right;\">\n",
       "      <th></th>\n",
       "      <th>customer_id</th>\n",
       "      <th>before</th>\n",
       "      <th>after</th>\n",
       "    </tr>\n",
       "  </thead>\n",
       "  <tbody>\n",
       "    <tr>\n",
       "      <th>0</th>\n",
       "      <td>0</td>\n",
       "      <td>3</td>\n",
       "      <td>4</td>\n",
       "    </tr>\n",
       "    <tr>\n",
       "      <th>1</th>\n",
       "      <td>1</td>\n",
       "      <td>5</td>\n",
       "      <td>4</td>\n",
       "    </tr>\n",
       "    <tr>\n",
       "      <th>2</th>\n",
       "      <td>2</td>\n",
       "      <td>4</td>\n",
       "      <td>2</td>\n",
       "    </tr>\n",
       "    <tr>\n",
       "      <th>3</th>\n",
       "      <td>3</td>\n",
       "      <td>3</td>\n",
       "      <td>3</td>\n",
       "    </tr>\n",
       "    <tr>\n",
       "      <th>4</th>\n",
       "      <td>4</td>\n",
       "      <td>2</td>\n",
       "      <td>2</td>\n",
       "    </tr>\n",
       "  </tbody>\n",
       "</table>\n",
       "</div>"
      ],
      "text/plain": [
       "   customer_id  before  after\n",
       "0            0       3      4\n",
       "1            1       5      4\n",
       "2            2       4      2\n",
       "3            3       3      3\n",
       "4            4       2      2"
      ]
     },
     "execution_count": 2,
     "metadata": {},
     "output_type": "execute_result"
    }
   ],
   "source": [
    "df_ratings.head()"
   ]
  },
  {
   "cell_type": "code",
   "execution_count": 3,
   "metadata": {},
   "outputs": [
    {
     "data": {
      "text/html": [
       "<div>\n",
       "<style scoped>\n",
       "    .dataframe tbody tr th:only-of-type {\n",
       "        vertical-align: middle;\n",
       "    }\n",
       "\n",
       "    .dataframe tbody tr th {\n",
       "        vertical-align: top;\n",
       "    }\n",
       "\n",
       "    .dataframe thead th {\n",
       "        text-align: right;\n",
       "    }\n",
       "</style>\n",
       "<table border=\"1\" class=\"dataframe\">\n",
       "  <thead>\n",
       "    <tr style=\"text-align: right;\">\n",
       "      <th></th>\n",
       "      <th>customer_id</th>\n",
       "      <th>location</th>\n",
       "      <th>returned</th>\n",
       "    </tr>\n",
       "  </thead>\n",
       "  <tbody>\n",
       "    <tr>\n",
       "      <th>145</th>\n",
       "      <td>145</td>\n",
       "      <td>Old Menu</td>\n",
       "      <td>1</td>\n",
       "    </tr>\n",
       "    <tr>\n",
       "      <th>146</th>\n",
       "      <td>146</td>\n",
       "      <td>Old Menu</td>\n",
       "      <td>0</td>\n",
       "    </tr>\n",
       "    <tr>\n",
       "      <th>147</th>\n",
       "      <td>147</td>\n",
       "      <td>Old Menu</td>\n",
       "      <td>1</td>\n",
       "    </tr>\n",
       "    <tr>\n",
       "      <th>148</th>\n",
       "      <td>148</td>\n",
       "      <td>Old Menu</td>\n",
       "      <td>0</td>\n",
       "    </tr>\n",
       "    <tr>\n",
       "      <th>149</th>\n",
       "      <td>149</td>\n",
       "      <td>Old Menu</td>\n",
       "      <td>1</td>\n",
       "    </tr>\n",
       "  </tbody>\n",
       "</table>\n",
       "</div>"
      ],
      "text/plain": [
       "     customer_id  location  returned\n",
       "145          145  Old Menu         1\n",
       "146          146  Old Menu         0\n",
       "147          147  Old Menu         1\n",
       "148          148  Old Menu         0\n",
       "149          149  Old Menu         1"
      ]
     },
     "execution_count": 3,
     "metadata": {},
     "output_type": "execute_result"
    }
   ],
   "source": [
    "df_return.tail()"
   ]
  },
  {
   "cell_type": "markdown",
   "metadata": {
    "id": "bmeq3ZnYqbRY"
   },
   "source": [
    "### Part 1: Assessment Phase\n",
    "\n",
    "The Assessment Phase is crucial for understanding your data before jumping into analysis. Think of it as getting to know\n",
    "your data's personality. During this phase, you'll:\n",
    "- Examine how your data is distributed (Are satisfaction scores clustered around certain values?)\n",
    "- Check your sample sizes (Do you have enough data to make reliable conclusions?)\n",
    "- Look for unusual patterns or outliers (Are there any suspicious ratings that might skew your results?)\n",
    "- Create visualizations to better understand your data\n",
    "- Check data against your assumptions\n",
    "\n",
    "This foundational work will help you make informed decisions about which statistical tests to use later.\n",
    "\n",
    "### Ratings Data"
   ]
  },
  {
   "cell_type": "code",
   "execution_count": 4,
   "metadata": {
    "id": "ejE3OlJJqbRZ"
   },
   "outputs": [],
   "source": [
    "# CodeGrade step1\n",
    "# Describe the basic stats of the ratings data\n",
    "ratings_describe = df_ratings.describe()\n",
    "sample_size_ratings = len(df_ratings)"
   ]
  },
  {
   "cell_type": "code",
   "execution_count": 5,
   "metadata": {
    "id": "4e74ebRIqbRZ"
   },
   "outputs": [
    {
     "name": "stdout",
     "output_type": "stream",
     "text": [
      "       customer_id     before      after\n",
      "count    75.000000  75.000000  75.000000\n",
      "mean     37.000000   2.973333   3.453333\n",
      "std      21.794495   1.229956   1.130574\n",
      "min       0.000000   1.000000   1.000000\n",
      "25%      18.500000   2.000000   3.000000\n",
      "50%      37.000000   3.000000   4.000000\n",
      "75%      55.500000   4.000000   4.000000\n",
      "max      74.000000   5.000000   5.000000\n",
      "There are a total of 75 customers in the paired ratings data, each with a score before the menu change and after\n"
     ]
    }
   ],
   "source": [
    "# Run this cell without changes to display results\n",
    "print(ratings_describe)\n",
    "print(f\"There are a total of {sample_size_ratings} customers in the paired ratings data, each with a score before the menu change and after\")"
   ]
  },
  {
   "cell_type": "code",
   "execution_count": 6,
   "metadata": {
    "id": "v2l0nC36qbRZ"
   },
   "outputs": [
    {
     "data": {
      "image/png": "[encoded data removed]",
      "text/plain": [
       "<Figure size 1200x500 with 2 Axes>"
      ]
     },
     "metadata": {},
     "output_type": "display_data"
    }
   ],
   "source": [
    "# CodeGrade step2\n",
    "# Create a histogram to visually represent before and after rating ASKING ME ONE HSTOGRAM but it is too ugly\n",
    "# Create pandas series\n",
    "\n",
    "ratings_before = pd.Series(df_ratings['before'], index=None, dtype=None, name='Before')\n",
    "ratings_after = pd.Series(df_ratings['after'], index=None, dtype=None, name='After')\n",
    "ratings_both = [ratings_before, ratings_after] # This is not needed \n",
    "\n",
    "# Seaborn histplot - set these parameter values (discrete=True, multiple='layer')\n",
    "fig, (ax1, ax2) = plt.subplots(1, 2, figsize=(12, 5))\n",
    "hist_ratings = sns.histplot(ratings_before, ax=ax1, bins=10, discrete=True, multiple='layer')\n",
    "\n",
    "# sns.histplot(ratings_before, ax=ax1, bins=10, discrete=True, multiple='layer')\n",
    "ax1.set_title('Customer Ratings Before Menu Change')\n",
    "ax1.set_xlabel('Customer Satisfaction Rating')\n",
    "\n",
    "sns.histplot(ratings_after, ax=ax2, bins=10, discrete=True, multiple='layer')\n",
    "ax2.set_title('Customer Ratings After Menu Change')\n",
    "ax2.set_xlabel('Customer Satisfaction Rating')\n",
    "\n",
    "# Labels\n",
    "#plt.xlabel('Customer Satisfaction Rating')\n",
    "#plt.title('Distribution of Ratings Before and After Menu Change')\n",
    "\n",
    "plt.show()"
   ]
  },
  {
   "cell_type": "markdown",
   "metadata": {},
   "source": [
    "#### Visualy, there is a clear skew of the normal distribution after the new menu toward better ratings"
   ]
  },
  {
   "cell_type": "code",
   "execution_count": 7,
   "metadata": {},
   "outputs": [
    {
     "data": {
      "image/png": "[encoded data removed]",
      "text/plain": [
       "<Figure size 800x500 with 1 Axes>"
      ]
     },
     "metadata": {},
     "output_type": "display_data"
    }
   ],
   "source": [
    "# TOO UGLY !!!\n",
    "fig, ax = plt.subplots(figsize=(8, 5))\n",
    "\n",
    "sns.histplot(ratings_before, label='Before', ax=ax, bins=10, discrete=True, multiple='layer')\n",
    "sns.histplot(ratings_after, label='After', ax=ax, bins=10, discrete=True, multiple='layer')\n",
    "\n",
    "# Labels & legend\n",
    "ax.set_xlabel('Customer Satisfaction Rating')\n",
    "ax.set_ylabel('Count')\n",
    "ax.set_title('Customer Ratings Before and After Menu Change')\n",
    "ax.legend(title='Group')\n",
    "\n",
    "# Save plot to variable if required\n",
    "hist_ratings = fig\n",
    "\n",
    "plt.tight_layout()\n",
    "plt.show()\n"
   ]
  },
  {
   "cell_type": "markdown",
   "metadata": {
    "id": "7mIL5bTVqbRa"
   },
   "source": [
    "### Return Visits Data"
   ]
  },
  {
   "cell_type": "code",
   "execution_count": 8,
   "metadata": {
    "id": "XzneDaV1qbRa"
   },
   "outputs": [],
   "source": [
    "# CodeGrade step3\n",
    "# Describe the basic stats of the location column\n",
    "return_describe = df_return.describe()\n",
    "\n",
    "# Seperate out New Menu and Old Menu samples - use pandas to create two dataframes\n",
    "new_menu = df_return[df_return['location'] == 'New Menu']\n",
    "old_menu = df_return[df_return['location'] == 'Old Menu']\n",
    "\n",
    "# Counts for returned or not (binary column) - use built-in pandas method - return percentage (normalize=True)\n",
    "new_return_counts = new_menu['returned'].value_counts(normalize=True)\n",
    "old_return_counts = old_menu['returned'].value_counts(normalize=True)"
   ]
  },
  {
   "cell_type": "code",
   "execution_count": 9,
   "metadata": {
    "id": "887dd1vbqbRb"
   },
   "outputs": [
    {
     "name": "stdout",
     "output_type": "stream",
     "text": [
      "       customer_id    returned\n",
      "count   150.000000  150.000000\n",
      "mean     74.500000    0.613333\n",
      "std      43.445368    0.488618\n",
      "min       0.000000    0.000000\n",
      "25%      37.250000    0.000000\n",
      "50%      74.500000    1.000000\n",
      "75%     111.750000    1.000000\n",
      "max     149.000000    1.000000\n",
      "returned\n",
      "1    0.746667\n",
      "0    0.253333\n",
      "Name: proportion, dtype: float64 returned\n",
      "0    0.52\n",
      "1    0.48\n",
      "Name: proportion, dtype: float64\n"
     ]
    }
   ],
   "source": [
    "# Run this cell without changes to display results\n",
    "print(return_describe)\n",
    "print(new_return_counts, old_return_counts)"
   ]
  },
  {
   "cell_type": "code",
   "execution_count": 10,
   "metadata": {
    "id": "oVhYYE08qbRb"
   },
   "outputs": [
    {
     "data": {
      "text/plain": [
       "Text(0, 0.5, 'Return Rates')"
      ]
     },
     "execution_count": 10,
     "metadata": {},
     "output_type": "execute_result"
    },
    {
     "data": {
      "image/png": "[encoded data removed]",
      "text/plain": [
       "<Figure size 640x480 with 1 Axes>"
      ]
     },
     "metadata": {},
     "output_type": "display_data"
    }
   ],
   "source": [
    "# CodeGrade step4\n",
    "# Calculate return visits rates - you can use counts object above\n",
    "new_return_rate = new_return_counts[1]\n",
    "old_return_rate = old_return_counts[1]\n",
    "\n",
    "# Barplot showing return visit rates comparing new and old menu\n",
    "bar_return = sns.barplot(y=[new_return_rate, old_return_rate], x=['New Menu', 'Old Menu'])\n",
    "\n",
    "# Labels\n",
    "plt.title('Return Visit Rates for Old and New Menus')\n",
    "plt.xlabel('Menu Type')\n",
    "plt.ylabel('Return Rates')"
   ]
  },
  {
   "cell_type": "markdown",
   "metadata": {},
   "source": [
    "<div style=\"background-color:#fff5e6; padding:15px; border-radius:8px\">\n",
    "\n",
    "Meeting Expectations check list.\n",
    "Examine both datasets for:\n",
    "\n",
    "Distribution characteristics:\n",
    "Histograms and descriptive statistics were used to understand how ratings and return behavior are distributed across groups.\n",
    "\n",
    "Sample sizes:\n",
    "Computed total counts in both datasets to ensure adequate sample size for reliable analysis.\n",
    "\n",
    "Potential outliers:\n",
    "Visual inspection of histograms helped assess the presence of outliers in satisfaction ratings, which are just 1-5. \n",
    "Return data is binary and no 100% - 0% distribution, so no outliers\n",
    "\n",
    "Create appropriate visualizations:\n",
    "Side-by-side histograms and return rate summaries were created to compare groups clearly and intuitively."
   ]
  },
  {
   "cell_type": "markdown",
   "metadata": {
    "id": "MuX8isHmqbRc"
   },
   "source": [
    "### Assumption Checking\n",
    "**For the Ratings Data (Before vs After):**\n",
    "\n",
    "- We have paired measurements from the same customers before and after the menu change\n",
    "\n",
    "Key assumption to check:\n",
    "- Normality of differences (using Shapiro-Wilk Test)\n",
    "- Equal Variances Between Samples (using Levene Test)\n",
    "\n",
    "**For the Return Visits Data:**\n",
    "\n",
    "This is a between-groups design comparing return rate between two independent groups (New Menu vs Old Menu)\n",
    "\n",
    "Key assumptions checked for Chi-square test:\n",
    "- Independent observations (we can assume this given different locations)\n",
    "- Minimum expected frequencies - use [scipy.stats.contingency.expected_freq](https://docs.scipy.org/doc/scipy/reference/generated/scipy.stats.contingency.expected_freq.html#scipy.stats.contingency.expected_freq)"
   ]
  },
  {
   "cell_type": "code",
   "execution_count": 11,
   "metadata": {
    "id": "SpapwFetqbRc"
   },
   "outputs": [],
   "source": [
    "# CodeGrade step5\n",
    "# Ratings Data (Before vs After)\n",
    "# Calculate differences\n",
    "differences = ratings_after - ratings_before\n",
    "\n",
    "# Shapiro-Wilk test for normality\n",
    "shapiro_stat, shapiro_p = stats.shapiro(differences)\n",
    "\n",
    "# Levene test for equal variance - will tell us if distribution changed after menu change\n",
    "levene_stat, levene_p = stats.levene(ratings_before, ratings_after)\n",
    "\n",
    "# Return Visits Data\n",
    "# Create contingency table\n",
    "contingency = pd.crosstab(df_return['location'], df_return['returned'])\n",
    "\n",
    "expected_freq = stats.contingency.expected_freq(contingency.to_numpy())"
   ]
  },
  {
   "cell_type": "code",
   "execution_count": 12,
   "metadata": {
    "id": "9qypHmeYqbRc"
   },
   "outputs": [
    {
     "name": "stdout",
     "output_type": "stream",
     "text": [
      "Checking normality of differences (Shapiro-Wilk test):\n",
      "Statistic: 0.9560, p-value: 0.0109\n",
      "Levene's test for homogeneity of variances:\n",
      "Statistic: 0.1000, p-value: 0.7522\n",
      "\n",
      "Contingency table for return visits:\n",
      "returned   0   1\n",
      "location        \n",
      "New Menu  19  56\n",
      "Old Menu  39  36\n",
      "[[29. 46.]\n",
      " [29. 46.]]\n"
     ]
    }
   ],
   "source": [
    "# Run this cell without changes to display results\n",
    "print(\"Checking normality of differences (Shapiro-Wilk test):\")\n",
    "print(f\"Statistic: {shapiro_stat:.4f}, p-value: {shapiro_p:.4f}\")\n",
    "print(\"Levene's test for homogeneity of variances:\")\n",
    "print(f\"Statistic: {levene_stat:.4f}, p-value: {levene_p:.4f}\")\n",
    "print(\"\\nContingency table for return visits:\")\n",
    "print(contingency)\n",
    "print(expected_freq)"
   ]
  },
  {
   "cell_type": "markdown",
   "metadata": {},
   "source": [
    "<div style=\"background-color:#fff5e6; padding:15px; border-radius:8px\">\n",
    "\n",
    "Meeting/Exceed expectations check list.\n",
    "\n",
    "Normality (Paired Differences):Shapiro-Wilk test returned p = 0.0109, indicating the differences are not normally distributed. So, normality assumption not met.\n",
    "\n",
    "Equal Variances: Levene’s test returned p = 0.7522, suggesting equal variances between before and after ratings, so assumption met.\n",
    "\n",
    "Chi-square Assumptions: Groups are independent!!! All expected cell frequencies (29 or 46) ≥ 5, so assumptions met."
   ]
  },
  {
   "cell_type": "markdown",
   "metadata": {
    "id": "GBcXBfPRqbRd"
   },
   "source": [
    "### Part 2: Selection Phase\n",
    "\n",
    "Now that you understand your data, it's time to choose appropriate statistical tests. This phase is like selecting the\n",
    "right tool for the job. Your choice will depend on:\n",
    "- The distribution and type of your data (normal vs non-normal)\n",
    "- The type of comparison you're making (before/after, between groups)\n",
    "- The general assumptions you can reasonably make about your data\n",
    "- The statistical test assumptions you checked\n",
    "\n",
    "Select the appropriate statistical test for each analysis based on the information above. Choose from one of the options below - make sure to match the correct string name when you assign to variable.\n",
    "- Paried t-test\n",
    "- 2 Sample Independent t-test\n",
    "- Goodness of Fit test\n",
    "- Test of Independence\n",
    "- Test of Homogeneity\n",
    "- Fisher's Exact test\n",
    "- Mann-Whitney U test\n",
    "- Wilcoxon signed-rank test"
   ]
  },
  {
   "cell_type": "markdown",
   "metadata": {},
   "source": [
    "<div style=\"background-color:#fff5e6; padding:15px; border-radius:8px\">\n",
    "\n",
    "Step 1: Rating Data before vs after new menu\n",
    "\n",
    "We have the same group of customers , therefor it's paired\n",
    "\n",
    "The data type is categorical 1-5 intervals\n",
    "\n",
    "According to Shapiro, the normality was not met"
   ]
  },
  {
   "cell_type": "markdown",
   "metadata": {},
   "source": [
    "<div style=\"background-color:#fff5e6; padding:15px; border-radius:8px\">\n",
    "\n",
    "Step 2: Return Visits\n",
    "\n",
    "We have two independent groups of customers acording to the set up of the experiment (new menu and old menu) \n",
    "\n",
    "The data type is binary 0-1\n",
    "\n",
    "All expected cell frequencies (29 or 46) ≥ 5 and independent groups, so chi Squared assumption is met"
   ]
  },
  {
   "cell_type": "code",
   "execution_count": 13,
   "metadata": {
    "id": "MS2frtHGqbRd"
   },
   "outputs": [],
   "source": [
    "# CodeGrade step6\n",
    "# Document your chosen tests\n",
    "# Name of chosen test for ratings analysis - as a string\n",
    "selected_test_ratings = \"Wilcoxon signed-rank test\"\n",
    "\n",
    "# Name of chosen test for return visits analysis - as a string\n",
    "selected_test_returns = \"Test of Homogeneity\""
   ]
  },
  {
   "cell_type": "markdown",
   "metadata": {},
   "source": [
    "<div style=\"background-color:#fff5e6; padding:15px; border-radius:8px\">\n",
    "\n",
    "Meeting/Exceed expectations check list.\n",
    "\n",
    "Based on your assessment:\n",
    "\n",
    "Choose appropriate statistical tests for each analysis\n",
    "\n",
    "Justify your choices\n",
    "\n",
    "Document any assumptions you're making\n",
    "\n",
    "Selected the Wilcoxon signed-rank test for the ratings data, as it involves paired observations and the normality assumption was violated. Selected the Chi-square Test of Independence for the return visits data, comparing two independent groups with binary outcomes and expected frequencies ≥ 5. Assumptions of independence, data type suitability, and distribution were evaluated and documented using descriptive statistics, visualizations, and statistical tests (Shapiro-Wilk, Levene’s, expected frequencies). Test choices align with the structure of the data and the assumptions checked during analysis."
   ]
  },
  {
   "cell_type": "markdown",
   "metadata": {
    "id": "b1hgoOjOqbRd"
   },
   "source": [
    "### Part 3: Implementation Phase\n",
    "\n",
    "This is where you put your plan into action. You'll implement your chosen statistical tests, create clear visualizations of your results, and calculate effect sizes to understand the practical significance of any differences you find.\n",
    "\n",
    "### Statisical Tests"
   ]
  },
  {
   "cell_type": "code",
   "execution_count": 14,
   "metadata": {
    "id": "uE9JbCo4qbRd"
   },
   "outputs": [],
   "source": [
    "# CodeGrade step7\n",
    "# Test 1: Comparing Before and After Ratings\n",
    "# Using appropriate test\n",
    "stat_ratings, p_value_ratings = stats.wilcoxon(ratings_before, ratings_after)"
   ]
  },
  {
   "cell_type": "code",
   "execution_count": 15,
   "metadata": {
    "id": "XW66ejQ6qbRd"
   },
   "outputs": [
    {
     "name": "stdout",
     "output_type": "stream",
     "text": [
      "\n",
      "Before and After Ratings test results:\n",
      "Statistic: 642.0000, p-value: 0.0268\n"
     ]
    }
   ],
   "source": [
    "# Run this code without changes to display result\n",
    "print(\"\\nBefore and After Ratings test results:\")\n",
    "print(f\"Statistic: {stat_ratings:.4f}, p-value: {p_value_ratings:.4f}\")"
   ]
  },
  {
   "cell_type": "code",
   "execution_count": 16,
   "metadata": {
    "id": "3DdrH-upqbRd"
   },
   "outputs": [],
   "source": [
    "# CodeGrade step8\n",
    "# Test 2: Comparing Return Visits Between Menu Types\n",
    "# Using appropriate test\n",
    "stat_return, p_value_return, _, _ = stats.chi2_contingency(contingency)"
   ]
  },
  {
   "cell_type": "code",
   "execution_count": 17,
   "metadata": {
    "id": "m_uJfn83qbRd"
   },
   "outputs": [
    {
     "name": "stdout",
     "output_type": "stream",
     "text": [
      "\n",
      "Return Visits test results:\n",
      "Statistic: 10.1481, p-value: 0.0014\n"
     ]
    }
   ],
   "source": [
    "# Run this code without changes to display result\n",
    "print(\"\\nReturn Visits test results:\")\n",
    "print(f\"Statistic: {stat_return:.4f}, p-value: {p_value_return:.4f}\")"
   ]
  },
  {
   "cell_type": "markdown",
   "metadata": {},
   "source": [
    "<div style=\"background-color:#fff5e6; padding:15px; border-radius:8px\">\n",
    "\n",
    "Meeting/Exceed expectations check list.\n",
    "\n",
    "Implement your chosen tests: (Implemented the appropriate statistical tests for both analyses) Wilcoxon signed-rank test for before/after satisfaction ratings and Chi-square test of independence for return visits across menu types\n",
    "\n",
    "Determine significance based on test results: Both tests were executed correctly, and p-values were used to determine statistical significance based on an alpha level of 0.05. it was met all requirements\n",
    "\n",
    "\n",
    "TEST 1: p = 0.0268 < 0.05, so we reject the null hypothesis.There is a statistically significant difference in customer satisfaction before and after the menu change and because it’s a non-parametric test, the median satisfaction rating changed.\n",
    "\n",
    "TEST 2: Since p = 0.0014 < 0.05, so we reject the null hypothesis. There is a statistically significant association between menu type and customer return behavior and means customers exposed to the new menu were more likely to return than those who saw the old menu."
   ]
  },
  {
   "cell_type": "markdown",
   "metadata": {
    "id": "hP2-n1gyqbRe"
   },
   "source": [
    "### Part 4: Interpretation Phase\n",
    "\n",
    "### Effect Sizes\n",
    "\n",
    "**For the Ratings Data:**\n",
    "\n",
    "Calculate Cohen's d effect size for paired samples (before/after ratings).\n",
    "    \n",
    "For paired samples, we use the mean difference divided by the standard deviation of the differences, which accounts for the correlation between measurements.\n",
    "\n",
    "**For the Return Visits Data:**\n",
    "\n",
    "Calculate Cramer's V for categorical variables\n",
    "\n",
    "Measures the strength of association between two categorical variables, in this case location (menu type) and customer return status, by calculating a value between 0 and 1, where 0 indicates no relationship and 1 indicates a perfect relationship, helping us understand whether the menu change had a meaningful impact on customer return behavior beyond just statistical significance.\n",
    "\n",
    "Cramer's V for a 2x2 Contingency Table is calculated by dividing the Chi2 Statistic by the total sample size and then taking the square root."
   ]
  },
  {
   "cell_type": "code",
   "execution_count": 18,
   "metadata": {
    "id": "3vJ3cnKvqbRe"
   },
   "outputs": [],
   "source": [
    "# CodeGrade step9\n",
    "# Calculates effect sizes for both analyses:\n",
    "# Cohen's d for ratings (continuous, paired data)\n",
    "differences = ratings_after - ratings_before\n",
    "ratings_effect_size = differences.mean() / differences.std()\n",
    "\n",
    "# Cramer's V for return visits (binary categorical data)\n",
    "# Total sample size\n",
    "n = contingency.to_numpy().sum()\n",
    "returns_effect_size = (stat_return / n) ** 0.5"
   ]
  },
  {
   "cell_type": "code",
   "execution_count": 19,
   "metadata": {
    "id": "danoA5ARqbRe"
   },
   "outputs": [
    {
     "name": "stdout",
     "output_type": "stream",
     "text": [
      "Effect size for paired ratings analysis: 0.2718406974151428\n",
      "Effect size for the return visits analysis: 0.2601031971418619\n"
     ]
    }
   ],
   "source": [
    "# Run this cell to display the results\n",
    "print(f\"Effect size for paired ratings analysis: {ratings_effect_size}\")\n",
    "print(f\"Effect size for the return visits analysis: {returns_effect_size}\")"
   ]
  },
  {
   "cell_type": "markdown",
   "metadata": {},
   "source": [
    "<div style=\"background-color:#fff5e6; padding:15px; border-radius:8px\">\n",
    "\n",
    "Meeting/Exceed expectations check list.\n",
    "\n",
    "Calculate Cohen’s d effect size CHECKED\n",
    "\n",
    "Calculate Cramer’s v effect size CHECKED\n",
    "\n",
    "Ratings Analysis (Cohen’s d = 0.27): Indicates small to moderate effect size. The change in customer satisfaction after the menu update is statistically significant and shows some practical improvement, though the magnitude of change is modest.\n",
    "\n",
    "Return Visits (Cramér’s V = 0.26): Represents small to moderate association between menu type and customer return behavior. The new menu appears to have impact on return rates, though not a very strong one."
   ]
  },
  {
   "cell_type": "code",
   "execution_count": null,
   "metadata": {},
   "outputs": [],
   "source": []
  }
 ],
 "metadata": {
  "colab": {
   "provenance": []
  },
  "kernelspec": {
   "display_name": "Python (base)",
   "language": "python",
   "name": "base"
  },
  "language_info": {
   "codemirror_mode": {
    "name": "ipython",
    "version": 3
   },
   "file_extension": ".py",
   "mimetype": "text/x-python",
   "name": "python",
   "nbconvert_exporter": "python",
   "pygments_lexer": "ipython3",
   "version": "3.11.11"
  }
 },
 "nbformat": 4,
 "nbformat_minor": 4
}
