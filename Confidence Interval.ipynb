{
 "cells": [
  {
   "cell_type": "markdown",
   "id": "ab9f98a0-eb9c-4256-8ef2-48a57354ca23",
   "metadata": {},
   "source": [
    "# EXAMPLE 1"
   ]
  },
  {
   "cell_type": "code",
   "execution_count": 1,
   "id": "90307ce2-cf3c-4425-898d-e540246b704d",
   "metadata": {},
   "outputs": [
    {
     "name": "stdout",
     "output_type": "stream",
     "text": [
      "Sample proportion (p̂): 0.230\n",
      "\n",
      "Checking success-failure condition:\n",
      "Successes (np̂): 92.0\n",
      "Failures (n(1-p̂)): 308.0\n",
      "\n",
      "Standard Error: 0.0210\n",
      "Critical value (z*): 1.9600\n",
      "Margin of Error: 0.0412\n",
      "\n",
      "95% Confidence Interval:\n",
      "(0.189, 0.271)\n",
      "(18.9%, 27.1%)\n"
     ]
    }
   ],
   "source": [
    "import numpy as np\n",
    "from scipy import stats\n",
    "\n",
    "# Our campaign data\n",
    "clicks = 92        # Successes (click-throughs)\n",
    "emails = 400      # Total sample size\n",
    "confidence = 0.95  # We want 95% confidence\n",
    "\n",
    "# First, calculate our sample proportion\n",
    "p_hat = clicks / emails\n",
    "print(f\"Sample proportion (p̂): {p_hat:.3f}\")\n",
    "# This is 0.230 or 23.0% click-through rate\n",
    "\n",
    "# Before we proceed, let's verify our success-failure condition\n",
    "successes = emails * p_hat            # np̂\n",
    "failures = emails * (1 - p_hat)       # n(1-p̂)\n",
    "\n",
    "print(\"\\nChecking success-failure condition:\")\n",
    "print(f\"Successes (np̂): {successes:.1f}\")        # Need ≥ 10\n",
    "print(f\"Failures (n(1-p̂)): {failures:.1f}\")      # Need ≥ 10\n",
    "\n",
    "# Since both values exceed 10, we can proceed with our analysis\n",
    "# Now calculate standard error\n",
    "standard_error = np.sqrt((p_hat * (1 - p_hat)) / emails)\n",
    "print(f\"\\nStandard Error: {standard_error:.4f}\")\n",
    "\n",
    "# Find critical value for 95% confidence\n",
    "z_critical = stats.norm.ppf((1 + confidence) / 2)\n",
    "print(f\"Critical value (z*): {z_critical:.4f}\")\n",
    "\n",
    "# Calculate margin of error\n",
    "margin_of_error = z_critical * standard_error\n",
    "print(f\"Margin of Error: {margin_of_error:.4f}\")\n",
    "\n",
    "# Calculate confidence interval\n",
    "ci_lower = p_hat - margin_of_error\n",
    "ci_upper = p_hat + margin_of_error\n",
    "\n",
    "print(f\"\\n95% Confidence Interval:\")\n",
    "print(f\"({ci_lower:.3f}, {ci_upper:.3f})\")\n",
    "print(f\"({ci_lower*100:.1f}%, {ci_upper*100:.1f}%)\")"
   ]
  },
  {
   "cell_type": "markdown",
   "id": "e1075067-6b29-4e78-828b-e23ad8503413",
   "metadata": {},
   "source": [
    "Sample Proportion (Point Estimate): Our observed click-through rate is 23.0% (92/400). This is our best single estimate, but we know it's not perfect. That's why we need a confidence interval.\n",
    "Success-Failure Condition:\n",
    "Successes: 92 (well above 10)\n",
    "Failures: 308 (well above 10) This tells us our sample is large enough to use normal-based methods reliably.\n",
    "Standard Error: We calculated a standard error of about 0.021, or 2.1 percentage points. This represents the typical amount our sample proportion might vary from sample to sample just by chance.\n",
    "Confidence Interval Construction:\n",
    "For 95% confidence, we use a z* value of 1.96 (from the standard normal)\n",
    "Our margin of error is about 4.1 percentage points (1.96 × 2.1%)\n",
    "This gives us an interval from 18.9% to 27.1"
   ]
  },
  {
   "cell_type": "markdown",
   "id": "edd16993-c3c9-4151-be46-67a2e45b37bb",
   "metadata": {},
   "source": [
    "\"Based on our analysis of the first 400 emails, we can be 95% confident that the \n",
    "true long-term click-through rate for this campaign will fall between 18.9% and 27.1%.\"\n",
    "\n",
    "Here's what this means for planning:\n",
    "\n",
    "Best estimate: 23.0% click-through rate\n",
    "Conservative estimate (lower bound): 18.9%\n",
    "Optimistic estimate (upper bound): 27.1%\n",
    "For quarterly planning, I recommend:\n",
    "\n",
    "Using 18.9% for conservative forecasts\n",
    "Using 23.0% for typical forecasts\n",
    "Using 27.1% for optimistic scenarios\n",
    "The margin of error (±4.1 percentage points) gives us reasonable precision for planning. However, if we need more precise estimates, we could:\n",
    "\n",
    "Analyze more emails (doubling our sample size would reduce the margin of error by about 30%)\n",
    "Accept a lower confidence level (90% confidence would give us a narrower interval but less certainty)"
   ]
  },
  {
   "cell_type": "markdown",
   "id": "d5168191-ccfb-4297-808a-a840c0a6f01b",
   "metadata": {},
   "source": [
    "# EXAMPLE 2"
   ]
  },
  {
   "cell_type": "code",
   "execution_count": 2,
   "id": "a499ad68-80d5-44ab-8921-6bd683b764cb",
   "metadata": {},
   "outputs": [
    {
     "name": "stdout",
     "output_type": "stream",
     "text": [
      "Success-failure check: True\n"
     ]
    }
   ],
   "source": [
    "# Sample data from recommendation system\n",
    "total_users = 400  # Exceeded minimum required\n",
    "clicks = 180       # Users who clicked recommendations\n",
    "\n",
    "# Calculate sample proportion\n",
    "p_hat = clicks / total_users  # 0.45 or 45%\n",
    "\n",
    "# Check success-failure condition\n",
    "successes = total_users * p_hat          # 180\n",
    "failures = total_users * (1 - p_hat)     # 220\n",
    "print(f\"Success-failure check: {successes >= 10 and failures >= 10}\")  # True"
   ]
  },
  {
   "cell_type": "code",
   "execution_count": 4,
   "id": "b18f7ad9-8825-47d4-9387-803f990065d5",
   "metadata": {},
   "outputs": [
    {
     "name": "stdout",
     "output_type": "stream",
     "text": [
      "95% CI: (0.401, 0.499)\n",
      "Margin of Error: 0.049\n"
     ]
    }
   ],
   "source": [
    "def calculate_proportion_ci(successes, n, confidence_level=0.95):\n",
    "    p_hat = successes / n\n",
    "    z_score = np.abs(stats.norm.ppf((1-confidence_level)/2))\n",
    "    margin_of_error = z_score * np.sqrt((p_hat * (1-p_hat)) / n)\n",
    "    \n",
    "    lower = p_hat - margin_of_error\n",
    "    upper = p_hat + margin_of_error\n",
    "    \n",
    "    return lower, upper, margin_of_error\n",
    "\n",
    "lower, upper, me = calculate_proportion_ci(180, 400)\n",
    "print(f\"95% CI: ({lower:.3f}, {upper:.3f})\")  # Output: (0.401, 0.499)\n",
    "print(f\"Margin of Error: {me:.3f}\")           # Output: 0.049"
   ]
  },
  {
   "cell_type": "markdown",
   "id": "350a9d06-c164-48fb-b8d6-a508b7158b09",
   "metadata": {},
   "source": [
    "Check that your interval makes sense:\n",
    "\n",
    "Falls within [0,1]\n",
    "Width seems reasonable given sample size\n",
    "Matches business context\n",
    "For our recommendation system: \"We can be 95% confident that between 40.1% and 49.9% of all users click on recommended products. The margin of error is approximately ±4.9 percentage points.\""
   ]
  },
  {
   "cell_type": "markdown",
   "id": "b11842c4-eec8-4af6-9983-48755ead7ce3",
   "metadata": {},
   "source": [
    "Beyond statistical considerations, evaluate:\n",
    "\n",
    "Does the interval width provide actionable information?\n",
    "Are both bounds meaningful for decision-making?\n",
    "How does this compare to business targets?\n",
    "In our case:\n",
    "\n",
    "Even the lower bound (40.1%) exceeds the 35% target click rate\n",
    "The interval width (9.8 percentage points) is narrow enough for decision-making\n",
    "Results suggest the recommendation system is performing adequately"
   ]
  },
  {
   "cell_type": "markdown",
   "id": "bf31e001-7707-44cb-8f8a-51616037774e",
   "metadata": {},
   "source": [
    "Present findings in business terms:\n",
    "\n",
    "\"Based on our analysis of 400 users, we're 95% confident that the true click-through rate for product recommendations falls between 40% and 50%. Since even our most conservative estimate (40%) exceeds our target of 35%, we can confidently say the recommendation system is meeting its performance goals. However, there might be room for improvement as we're not yet reaching the stretch goal of 55%.\""
   ]
  },
  {
   "cell_type": "markdown",
   "id": "6dd658d0-69b7-4c77-a210-2759e01ae493",
   "metadata": {},
   "source": [
    "# EXAMPLE 3"
   ]
  },
  {
   "cell_type": "code",
   "execution_count": 5,
   "id": "58f1e62f-b3f2-44e7-a17d-1780b56a93aa",
   "metadata": {},
   "outputs": [
    {
     "name": "stdout",
     "output_type": "stream",
     "text": [
      "Chat conditions:\n",
      "np = 280.0\n",
      "n(1-p) = 40.0\n",
      "Conditions met: True\n",
      "\n",
      "Email conditions:\n",
      "np = 410.0\n",
      "n(1-p) = 90.0\n",
      "Conditions met: True\n"
     ]
    }
   ],
   "source": [
    "# Calculate sample proportions\n",
    "chat_prop = 280/320  # ≈ 0.875 or 87.5%\n",
    "email_prop = 410/500  # ≈ 0.82 or 82%\n",
    "\n",
    "# Check success-failure condition for both groups\n",
    "def check_conditions(successes, n):\n",
    "    failures = n - successes\n",
    "    return {\n",
    "        'np': n * (successes/n),\n",
    "        'n(1-p)': n * (1 - successes/n),\n",
    "        'conditions_met': (n * (successes/n) >= 10) and (n * (1 - successes/n) >= 10)\n",
    "    }\n",
    "\n",
    "chat_check = check_conditions(280, 320)\n",
    "email_check = check_conditions(410, 500)\n",
    "\n",
    "print(\"Chat conditions:\")\n",
    "print(f\"np = {chat_check['np']:.1f}\")\n",
    "print(f\"n(1-p) = {chat_check['n(1-p)']:.1f}\")\n",
    "print(f\"Conditions met: {chat_check['conditions_met']}\\n\")\n",
    "\n",
    "print(\"Email conditions:\")\n",
    "print(f\"np = {email_check['np']:.1f}\")\n",
    "print(f\"n(1-p) = {email_check['n(1-p)']:.1f}\")\n",
    "print(f\"Conditions met: {email_check['conditions_met']}\")"
   ]
  },
  {
   "cell_type": "code",
   "execution_count": 6,
   "id": "7b7d0c63-970b-4135-925f-5b3e244d6bc9",
   "metadata": {},
   "outputs": [
    {
     "name": "stdout",
     "output_type": "stream",
     "text": [
      "\n",
      "Z-statistic: 2.1035\n",
      "P-value: 0.0354\n",
      "Effect size: 0.0550\n"
     ]
    }
   ],
   "source": [
    "from statsmodels.stats.proportion import proportions_ztest\n",
    "\n",
    "# Prepare data for scipy.stats.proportions_ztest\n",
    "count = np.array([280, 410])  # successes for chat and email\n",
    "nobs = np.array([320, 500])   # total observations for each group\n",
    "\n",
    "# Perform the test\n",
    "stat, pvalue = proportions_ztest(count, nobs)\n",
    "\n",
    "print(f\"\\nZ-statistic: {stat:.4f}\")\n",
    "print(f\"P-value: {pvalue:.4f}\")\n",
    "\n",
    "# Calculate the effect size (difference in proportions)\n",
    "effect_size = (280/320) - (410/500)\n",
    "print(f\"Effect size: {effect_size:.4f}\")"
   ]
  },
  {
   "cell_type": "code",
   "execution_count": 7,
   "id": "a3ada549-0704-4f2b-b55b-26171be0e089",
   "metadata": {},
   "outputs": [
    {
     "name": "stdout",
     "output_type": "stream",
     "text": [
      "\n",
      "95% Confidence Interval: (0.0038, 0.1062)\n"
     ]
    }
   ],
   "source": [
    "# Calculate pooled proportion\n",
    "p_pooled = (280 + 410) / (320 + 500)\n",
    "\n",
    "# Calculate standard error\n",
    "se = np.sqrt(p_pooled * (1 - p_pooled) * (1/320 + 1/500))\n",
    "\n",
    "# Calculate 95% confidence interval\n",
    "z_critical = stats.norm.ppf(0.975)  # for 95% CI\n",
    "margin_error = z_critical * se\n",
    "ci_lower = effect_size - margin_error\n",
    "ci_upper = effect_size + margin_error\n",
    "\n",
    "print(f\"\\n95% Confidence Interval: ({ci_lower:.4f}, {ci_upper:.4f})\")"
   ]
  },
  {
   "cell_type": "markdown",
   "id": "186df900-586f-4fd1-88d8-28dbaaf59cc2",
   "metadata": {},
   "source": [
    "Here's how you might present these findings to your support manager:\n",
    "\n",
    "\"I've analyzed the satisfaction rates between our chat and email support channels. Here's what I found:\n",
    "Chat support had a satisfaction rate of 87.5% (28010 out of 320 responses), while email support had a satisfaction rate of 82% (410 out of 500 responses). This represents a 5.5 percentage point difference in favor of chat support.\n",
    "\n",
    "Our statistical analysis shows this difference is statistically significant (p = 0.037), meaning it's unlikely this difference occurred by chance. We can be 95% confident that chat support's true satisfaction rate is between 0.3 and 10.7 percentage points higher than email support.\n",
    "\n",
    "Business Implications:\n",
    "\n",
    "The data supports that chat provides better customer satisfaction.\n",
    "The minimum improvement we're confident about (0.3 percentage points) might be too small to justify chat's higher cost\n",
    "However, the potential improvement could be as high as 10.7 percentage points, which might make the investment worthwhile.\n",
    "Recommendations:\n",
    "\n",
    "Continue collecting data to narrow down the true difference.\n",
    "Consider analyzing the cost per satisfied customer for each channel.\n",
    "Look for patterns in types of issues where chat particularly excels\"."
   ]
  }
 ],
 "metadata": {
  "kernelspec": {
   "display_name": "Python (base)",
   "language": "python",
   "name": "base"
  },
  "language_info": {
   "codemirror_mode": {
    "name": "ipython",
    "version": 3
   },
   "file_extension": ".py",
   "mimetype": "text/x-python",
   "name": "python",
   "nbconvert_exporter": "python",
   "pygments_lexer": "ipython3",
   "version": "3.11.11"
  }
 },
 "nbformat": 4,
 "nbformat_minor": 5
}
