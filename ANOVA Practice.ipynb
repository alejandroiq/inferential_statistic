{
 "cells": [
  {
   "cell_type": "markdown",
   "id": "2abcdddb-a48c-4245-9995-0156eef5dc43",
   "metadata": {},
   "source": [
    "# ANOVA"
   ]
  },
  {
   "cell_type": "code",
   "execution_count": 1,
   "id": "6fb8f732-490d-4cdf-af99-311f1185fb97",
   "metadata": {},
   "outputs": [],
   "source": [
    "import numpy as np\n",
    "from scipy import stats\n",
    "\n",
    "# Customer satisfaction scores (1-10) for each store layout\n",
    "layout_A = np.array([7, 8, 6, 7, 8, 7, 6, 8])\n",
    "layout_B = np.array([8, 9, 7, 8, 9, 8, 7, 8])\n",
    "layout_C = np.array([6, 7, 5, 6, 7, 6, 5, 7])\n",
    "layout_D = np.array([7, 8, 6, 7, 8, 7, 6, 7])\n",
    "\n",
    "# Perform one-way ANOVA\n",
    "f_statistic, p_value = stats.f_oneway(layout_A, layout_B, layout_C, layout_D)"
   ]
  },
  {
   "cell_type": "code",
   "execution_count": 2,
   "id": "d009b82c-4642-4212-bf5b-0545382af7be",
   "metadata": {},
   "outputs": [
    {
     "data": {
      "text/html": [
       "<table class=\"simpletable\">\n",
       "<caption>Multiple Comparison of Means - Tukey HSD, FWER=0.05</caption>\n",
       "<tr>\n",
       "  <th>group1</th> <th>group2</th> <th>meandiff</th>  <th>p-adj</th>  <th>lower</th>   <th>upper</th>  <th>reject</th>\n",
       "</tr>\n",
       "<tr>\n",
       "     <td>A</td>      <td>B</td>     <td>0.875</td>  <td>0.1485</td> <td>-0.2119</td> <td>1.9619</td>   <td>False</td>\n",
       "</tr>\n",
       "<tr>\n",
       "     <td>A</td>      <td>C</td>     <td>-1.0</td>   <td>0.0798</td> <td>-2.0869</td> <td>0.0869</td>   <td>False</td>\n",
       "</tr>\n",
       "<tr>\n",
       "     <td>A</td>      <td>D</td>    <td>-0.125</td>   <td>0.989</td> <td>-1.2119</td> <td>0.9619</td>   <td>False</td>\n",
       "</tr>\n",
       "<tr>\n",
       "     <td>B</td>      <td>C</td>    <td>-1.875</td>  <td>0.0003</td> <td>-2.9619</td> <td>-0.7881</td>  <td>True</td> \n",
       "</tr>\n",
       "<tr>\n",
       "     <td>B</td>      <td>D</td>     <td>-1.0</td>   <td>0.0798</td> <td>-2.0869</td> <td>0.0869</td>   <td>False</td>\n",
       "</tr>\n",
       "<tr>\n",
       "     <td>C</td>      <td>D</td>     <td>0.875</td>  <td>0.1485</td> <td>-0.2119</td> <td>1.9619</td>   <td>False</td>\n",
       "</tr>\n",
       "</table>"
      ],
      "text/latex": [
       "\\begin{center}\n",
       "\\begin{tabular}{ccccccc}\n",
       "\\toprule\n",
       "\\textbf{group1} & \\textbf{group2} & \\textbf{meandiff} & \\textbf{p-adj} & \\textbf{lower} & \\textbf{upper} & \\textbf{reject}  \\\\\n",
       "\\midrule\n",
       "       A        &        B        &       0.875       &     0.1485     &    -0.2119     &     1.9619     &      False       \\\\\n",
       "       A        &        C        &        -1.0       &     0.0798     &    -2.0869     &     0.0869     &      False       \\\\\n",
       "       A        &        D        &       -0.125      &     0.989      &    -1.2119     &     0.9619     &      False       \\\\\n",
       "       B        &        C        &       -1.875      &     0.0003     &    -2.9619     &    -0.7881     &       True       \\\\\n",
       "       B        &        D        &        -1.0       &     0.0798     &    -2.0869     &     0.0869     &      False       \\\\\n",
       "       C        &        D        &       0.875       &     0.1485     &    -0.2119     &     1.9619     &      False       \\\\\n",
       "\\bottomrule\n",
       "\\end{tabular}\n",
       "%\\caption{Multiple Comparison of Means - Tukey HSD, FWER=0.05}\n",
       "\\end{center}"
      ],
      "text/plain": [
       "<class 'statsmodels.iolib.table.SimpleTable'>"
      ]
     },
     "execution_count": 2,
     "metadata": {},
     "output_type": "execute_result"
    }
   ],
   "source": [
    "from statsmodels.stats.multicomp import pairwise_tukeyhsd\n",
    "\n",
    "# Combine all data for post-hoc analysis\n",
    "all_data = np.concatenate([layout_A, layout_B, layout_C, layout_D])\n",
    "labels = np.repeat(['A', 'B', 'C', 'D'], [len(layout_A), len(layout_B), \n",
    "                                         len(layout_C), len(layout_D)])\n",
    "\n",
    "# Perform Tukey's HSD test\n",
    "tukey_results = pairwise_tukeyhsd(all_data, labels)\n",
    "tukey_results.summary()"
   ]
  },
  {
   "cell_type": "markdown",
   "id": "2e50e6d7-a702-4ed3-9a5e-5b2c61138c79",
   "metadata": {},
   "source": [
    "# EXAMPLE 2"
   ]
  },
  {
   "cell_type": "code",
   "execution_count": 4,
   "id": "6621cd77-3823-48d8-a16e-eede052a1b57",
   "metadata": {},
   "outputs": [
    {
     "name": "stdout",
     "output_type": "stream",
     "text": [
      "fstat: 59.4042553191489, pvalue: 5.123203267758799e-14\n"
     ]
    },
    {
     "data": {
      "text/html": [
       "<table class=\"simpletable\">\n",
       "<caption>Multiple Comparison of Means - Tukey HSD, FWER=0.05</caption>\n",
       "<tr>\n",
       "   <th>group1</th>     <th>group2</th>    <th>meandiff</th>  <th>p-adj</th>  <th>lower</th>   <th>upper</th>  <th>reject</th>\n",
       "</tr>\n",
       "<tr>\n",
       "   <td>Gesture</td>   <td>Hamburger</td>     <td>3.0</td>     <td>0.0</td>  <td>1.4924</td>  <td>4.5076</td>   <td>True</td> \n",
       "</tr>\n",
       "<tr>\n",
       "   <td>Gesture</td>    <td>Tab Bar</td>     <td>-4.4</td>     <td>0.0</td>  <td>-5.9076</td> <td>-2.8924</td>  <td>True</td> \n",
       "</tr>\n",
       "<tr>\n",
       "   <td>Gesture</td>  <td>Traditional</td>   <td>-1.0</td>   <td>0.2963</td> <td>-2.5076</td> <td>0.5076</td>   <td>False</td>\n",
       "</tr>\n",
       "<tr>\n",
       "  <td>Hamburger</td>   <td>Tab Bar</td>     <td>-7.4</td>     <td>0.0</td>  <td>-8.9076</td> <td>-5.8924</td>  <td>True</td> \n",
       "</tr>\n",
       "<tr>\n",
       "  <td>Hamburger</td> <td>Traditional</td>   <td>-4.0</td>     <td>0.0</td>  <td>-5.5076</td> <td>-2.4924</td>  <td>True</td> \n",
       "</tr>\n",
       "<tr>\n",
       "   <td>Tab Bar</td>  <td>Traditional</td>    <td>3.4</td>     <td>0.0</td>  <td>1.8924</td>  <td>4.9076</td>   <td>True</td> \n",
       "</tr>\n",
       "</table>"
      ],
      "text/latex": [
       "\\begin{center}\n",
       "\\begin{tabular}{ccccccc}\n",
       "\\toprule\n",
       "\\textbf{group1} & \\textbf{group2} & \\textbf{meandiff} & \\textbf{p-adj} & \\textbf{lower} & \\textbf{upper} & \\textbf{reject}  \\\\\n",
       "\\midrule\n",
       "    Gesture     &    Hamburger    &        3.0        &      0.0       &     1.4924     &     4.5076     &       True       \\\\\n",
       "    Gesture     &     Tab Bar     &        -4.4       &      0.0       &    -5.9076     &    -2.8924     &       True       \\\\\n",
       "    Gesture     &   Traditional   &        -1.0       &     0.2963     &    -2.5076     &     0.5076     &      False       \\\\\n",
       "   Hamburger    &     Tab Bar     &        -7.4       &      0.0       &    -8.9076     &    -5.8924     &       True       \\\\\n",
       "   Hamburger    &   Traditional   &        -4.0       &      0.0       &    -5.5076     &    -2.4924     &       True       \\\\\n",
       "    Tab Bar     &   Traditional   &        3.4        &      0.0       &     1.8924     &     4.9076     &       True       \\\\\n",
       "\\bottomrule\n",
       "\\end{tabular}\n",
       "%\\caption{Multiple Comparison of Means - Tukey HSD, FWER=0.05}\n",
       "\\end{center}"
      ],
      "text/plain": [
       "<class 'statsmodels.iolib.table.SimpleTable'>"
      ]
     },
     "execution_count": 4,
     "metadata": {},
     "output_type": "execute_result"
    },
    {
     "data": {
      "image/png": "[encoded data removed]",
      "text/plain": [
       "<Figure size 1000x600 with 1 Axes>"
      ]
     },
     "metadata": {},
     "output_type": "display_data"
    }
   ],
   "source": [
    "import numpy as np\n",
    "from scipy import stats\n",
    "from statsmodels.stats.multicomp import pairwise_tukeyhsd\n",
    "import matplotlib.pyplot as plt\n",
    "import seaborn as sns\n",
    "\n",
    "# Time (in seconds) for users to find and start a workout\n",
    "design_A = np.array([15, 17, 14, 16, 15, 18, 16, 14, 17, 15])  # Traditional menu\n",
    "design_B = np.array([12, 13, 11, 14, 12, 13, 12, 11, 13, 12])  # Tab bar\n",
    "design_C = np.array([19, 21, 18, 20, 19, 22, 20, 18, 21, 19])  # Hamburger menu\n",
    "design_D = np.array([16, 18, 15, 17, 16, 19, 17, 15, 18, 16])  # Gesture-based\n",
    "\n",
    "# First, let's visualize our data\n",
    "plt.figure(figsize=(10, 6))\n",
    "sns.boxplot(data=[design_A, design_B, design_C, design_D])\n",
    "plt.xticks([0, 1, 2, 3], ['Traditional', 'Tab Bar', 'Hamburger', 'Gesture'])\n",
    "plt.ylabel('Time to Start Workout (seconds)')\n",
    "plt.title('Navigation Design Performance')\n",
    "\n",
    "# Perform one-way ANOVA\n",
    "f_statistic, p_value = stats.f_oneway(design_A, design_B, design_C, design_D)\n",
    "print(f\"fstat: {f_statistic}, pvalue: {p_value}\")\n",
    "\n",
    "# If we find significant differences, perform post-hoc analysis\n",
    "all_data = np.concatenate([design_A, design_B, design_C, design_D])\n",
    "design_labels = np.repeat(['Traditional', 'Tab Bar', 'Hamburger', 'Gesture'], 10)\n",
    "\n",
    "tukey = pairwise_tukeyhsd(all_data, design_labels)\n",
    "tukey.summary()"
   ]
  },
  {
   "cell_type": "code",
   "execution_count": null,
   "id": "ea38f96f-36b9-4b5c-9962-afc9a4489920",
   "metadata": {},
   "outputs": [],
   "source": []
  }
 ],
 "metadata": {
  "kernelspec": {
   "display_name": "Python (base)",
   "language": "python",
   "name": "base"
  },
  "language_info": {
   "codemirror_mode": {
    "name": "ipython",
    "version": 3
   },
   "file_extension": ".py",
   "mimetype": "text/x-python",
   "name": "python",
   "nbconvert_exporter": "python",
   "pygments_lexer": "ipython3",
   "version": "3.11.11"
  }
 },
 "nbformat": 4,
 "nbformat_minor": 5
}
