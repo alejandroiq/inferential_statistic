{
 "cells": [
  {
   "cell_type": "markdown",
   "metadata": {
    "id": "HFYhWa6hSMqt"
   },
   "source": [
    "# Statistical Inference for Categorical Data Lab\n",
    "\n",
    "## Retail Customer Loyalty Marketing Analysis\n",
    "\n",
    "You're working as a data analyst for a major retail chain that's analyzing their customer loyalty program. The marketing team wants to understand if there are patterns in how customers engage with their promotional campaigns. They've collected data on customer responses to different types of promotions (email, SMS, app notification) and whether customers made a purchase within 7 days of receiving the promotion. Additionally they also recorded the time of day when the promotion was opened/accessed and want to know if promotional engagement varies by the time of day.\n",
    "\n",
    "The marketing team needs your help to:\n",
    "- Determine if customers show preferences for when they engage with promotions (morning, afternoon, evening)\n",
    "- Investigate whether the type of promotion is related to customer purchase behavior\n",
    "\n",
    "This analysis will help the marketing team optimize their promotional strategy and improve campaign effectiveness.\n",
    "\n",
    "## Data Overview\n",
    "\n",
    "Data File: retail_promotions.csv\n",
    "\n",
    "Contains columns:\n",
    "- TimeOfDay (Morning, Afternoon, Evening)\n",
    "- PromotionType (Email, AppNotification, SMS)\n",
    "- MadePurchase (Yes, No)\n",
    "\n",
    "First, let's import the libraries you'll need for our analysis and also load in the data"
   ]
  },
  {
   "cell_type": "code",
   "execution_count": null,
   "metadata": {
    "id": "Ox3SNzg_SMqv"
   },
   "outputs": [],
   "source": [
    "# CodeGrade step0\n",
    "# Import the required libraries\n",
    "import pandas as pd\n",
    "import numpy as np\n",
    "from scipy import stats\n",
    "import matplotlib.pyplot as plt\n",
    "import seaborn as sns\n",
    "\n",
    "# You will need to have downloaded the provided data file and placed it the same location as the notebook\n",
    "df = pd.read_csv('retail_promotions.csv')"
   ]
  },
  {
   "cell_type": "markdown",
   "metadata": {
    "id": "b4jH0rnTSMqw"
   },
   "source": [
    "### Part 1: Define the Research Question\n",
    "Before diving into the analysis, it's crucial to clearly articulate our research questions and formal hypotheses. This helps ensure our statistical tests align with our business objectives. We'll use α = 0.05 for our hypothesis tests.\n",
    "\n",
    "#### Research Question 1: Time Preference Analysis\n",
    "- Main Question: Do customers show significant preferences for when they engage with promotions?\n",
    "- Business Context: Understanding timing preferences helps optimize when to send promotions.\n",
    "\n",
    "Select the appropriate Null and Alternative Hypothesis from the options below and assign the letter (string) to the answer variable.\n",
    "\n",
    "Consider: What would it mean if customers had no timing preferences?\n",
    "\n",
    "Option A:\n",
    "- Null Hypothesis (H₀): There is no preference for time of day\n",
    "- Alternative Hypothesis (H₁): One of the times has significantly higher frequency\n",
    "\n",
    "Option B:\n",
    "- Null Hypothesis (H₀): The observed frequencies are not different than the expected\n",
    "- Alternative Hypothesis (H₁): The expected frequencies show a significant difference in time of day\n",
    "\n",
    "Option C:\n",
    "- Null Hypothesis (H₀): There is no difference in frequency for time of day\n",
    "- Alternative Hypothesis (H₁): There are significant differences between the expected and the observed time of day frequencies"
   ]
  },
  {
   "cell_type": "code",
   "execution_count": null,
   "metadata": {
    "id": "P1urAPSJTIpS"
   },
   "outputs": [],
   "source": [
    "# CodeGrade step1\n",
    "# Assign the string letter (\"A\", \"B\", or \"C\")\n",
    "time_pref_hyp = None"
   ]
  },
  {
   "cell_type": "markdown",
   "metadata": {
    "id": "wLWjejMCSMqx"
   },
   "source": [
    "#### Research Question 2: Promotion Type Effectiveness\n",
    "- Main Question: Is there a relationship between promotion type and purchase behavior?\n",
    "- Business Context: Identifying the most effective promotion type can improve campaign ROI.\n",
    "\n",
    "WSelect the appropriate Null and Alternative Hypothesis from the options below and assign the letter (string) to the answer variable.\n",
    "\n",
    "Consider: What would it mean if promotion type and purchase behavior were independent?\n",
    "\n",
    "Option A:\n",
    "- Null Hypothesis (H₀): The promotion type has no effect on customer purchase behavior\n",
    "- Alternative Hypothesis (H₁): There are differences in customer purchase behavior based on promotion type\n",
    "\n",
    "Option B:\n",
    "- Null Hypothesis (H₀): Customer purchase behavior is dependant on the type of promotion\n",
    "- Alternative Hypothesis (H₁): Customer purchase behavior is independant on the type of promotion\n",
    "\n",
    "Option C:\n",
    "- Null Hypothesis (H₀): Customer purchase behavior and promotion type are not related\n",
    "- Alternative Hypothesis (H₁): The frequency of customer purchases is the same across promotion types"
   ]
  },
  {
   "cell_type": "code",
   "execution_count": null,
   "metadata": {
    "id": "GQtKx9yGZOqz"
   },
   "outputs": [],
   "source": [
    "# CodeGrade step2\n",
    "# Assign the string letter (\"A\", \"B\", or \"C\")\n",
    "promotion_hyp = None"
   ]
  },
  {
   "cell_type": "markdown",
   "metadata": {
    "id": "ZOr7H32ISMqy"
   },
   "source": [
    "### Part 2: Data Exploration\n",
    "\n",
    "Before diving into statistical tests, we need to understand the structure and quality of our data through exploratory analysis and visualization. This critical step helps us identify any potential data quality issues and gives us an initial sense of patterns that might exist in customer behavior.\n",
    "\n",
    "#### General Statistics:"
   ]
  },
  {
   "cell_type": "code",
   "execution_count": null,
   "metadata": {
    "id": "a96YSYmpSMqz"
   },
   "outputs": [],
   "source": [
    "# CodeGrade step3\n",
    "# Extract basic information and summary of the data using pandas\n",
    "\n",
    "# Number of each promotion type: use built-in pandas method value_counts()\n",
    "promotion_counts = None\n",
    "\n",
    "# Basic summary statistics using pandas\n",
    "df_describe = None"
   ]
  },
  {
   "cell_type": "code",
   "execution_count": null,
   "metadata": {
    "id": "cgAuayLoSMqz"
   },
   "outputs": [],
   "source": [
    "# Run this cell without changes\n",
    "print(\"First few rows of the dataset:\")\n",
    "print(df.head())\n",
    "print(\"\\nDataset information:\")\n",
    "print(df.info())\n",
    "print(\"\\nSummary statistics:\")\n",
    "print(df_describe)"
   ]
  },
  {
   "cell_type": "markdown",
   "metadata": {
    "id": "sX9fuNYESMqz"
   },
   "source": [
    "#### Visualize Distributions:"
   ]
  },
  {
   "cell_type": "code",
   "execution_count": null,
   "metadata": {
    "id": "1FKMckaKSMq0"
   },
   "outputs": [],
   "source": [
    "# CodeGrade step4\n",
    "# Promotion Type Distribution\n",
    "plt.figure(figsize=(10, 6))\n",
    "\n",
    "# Set x and y - use promotion_counts object\n",
    "x = None\n",
    "y = None\n",
    "\n",
    "# Create Seaborn barplot\n",
    "barplot = None\n",
    "\n",
    "# Labels\n",
    "plt.title('Distribution of Promotion Types')\n",
    "plt.ylabel('Number of Promotions')\n",
    "plt.show()"
   ]
  },
  {
   "cell_type": "code",
   "execution_count": null,
   "metadata": {
    "id": "VBf2O5PnSMq0"
   },
   "outputs": [],
   "source": [
    "# CodeGrade step5\n",
    "# Time of Day Distribution\n",
    "plt.figure(figsize=(10, 6))\n",
    "\n",
    "# Create Seaborn histplot - alternate way to barplot\n",
    "histplot = None\n",
    "\n",
    "# Labels\n",
    "plt.title('Distribution of Promotion Engagement by Time of Day')\n",
    "plt.ylabel('Number of Engagements')\n",
    "plt.show()"
   ]
  },
  {
   "cell_type": "code",
   "execution_count": null,
   "metadata": {
    "id": "Dik8LkSNSMq0"
   },
   "outputs": [],
   "source": [
    "# CodeGrade step6\n",
    "# Purchase Behavior Distribution\n",
    "plt.figure(figsize=(10, 6))\n",
    "\n",
    "# Set counts and labels\n",
    "x = None\n",
    "labels = None\n",
    "\n",
    "# Create Matplotlib pie chart - another way - low catergory numbers\n",
    "pie = plt.pie(x=x, labels=labels, autopct='%1.1f%%')\n",
    "\n",
    "# Labels\n",
    "plt.title(\"Purchase Behavior\")\n",
    "plt.show()"
   ]
  },
  {
   "cell_type": "markdown",
   "metadata": {
    "id": "-JA9cAUYSMq1"
   },
   "source": [
    "### Part 3: Goodness of Fit Test for Time Preferences\n",
    "\n",
    "Now you can examine whether customers show significant preferences for when they engage with promotions using a chi-square goodness of fit test. This analysis will help the marketing team determine if they should prioritize specific times of day for sending promotional messages.\n",
    "\n",
    "Scipy documentation for [chisquare GoF Test](https://docs.scipy.org/doc/scipy/reference/generated/scipy.stats.chisquare.html)"
   ]
  },
  {
   "cell_type": "code",
   "execution_count": null,
   "metadata": {
    "id": "26vrWCA8SMq1"
   },
   "outputs": [],
   "source": [
    "# CodeGrade step7\n",
    "# Calculate observed frequencies\n",
    "observed_time_freq = None\n",
    "total_observations = None\n",
    "\n",
    "# Calculate expected frequencies (assuming uniform distribution - no preference)\n",
    "expected_time_freq = None\n",
    "\n",
    "# Perform chi-square goodness of fit test\n",
    "time_chi2_stat, time_p_value = None"
   ]
  },
  {
   "cell_type": "code",
   "execution_count": null,
   "metadata": {
    "id": "ocWRcqzYSMq1"
   },
   "outputs": [],
   "source": [
    "# Run this code without changes to display results\n",
    "print(\"\\nChi-square Goodness of Fit Test Results for Time Preferences:\")\n",
    "print(f\"Chi-square statistic: {time_chi2_stat:.2f}\")\n",
    "print(f\"p-value: {time_p_value:.4f}\")\n",
    "\n",
    "# Visualize observed vs expected frequencies\n",
    "plt.figure(figsize=(10, 6))\n",
    "time_comparison = pd.DataFrame({\n",
    "    'Observed': observed_time_freq,\n",
    "    'Expected': expected_time_freq\n",
    "}, index=observed_time_freq.index)\n",
    "time_comparison.plot(kind='bar')\n",
    "plt.title('Observed vs Expected Frequencies by Time of Day')\n",
    "plt.ylabel('Frequency')\n",
    "plt.show()"
   ]
  },
  {
   "cell_type": "markdown",
   "metadata": {
    "id": "vRWAIoL6SMq1"
   },
   "source": [
    "\n",
    "### Part 4: Test of Independence for Promotion Type"
   ]
  },
  {
   "cell_type": "markdown",
   "metadata": {
    "id": "n7w0Wy95SMq1"
   },
   "source": [
    "In this step, you investigate whether the type of promotion (email, SMS, or app notification) influences customer purchase behavior. Using a chi-square test of independence, you'll determine if certain promotional channels are more effective at driving purchases, which could significantly impact the marketing team's channel strategy.\n",
    "\n",
    "Scipy documentation for [chi2_contingency Test of Independence](https://docs.scipy.org/doc/scipy/reference/generated/scipy.stats.chi2_contingency.html)"
   ]
  },
  {
   "cell_type": "code",
   "execution_count": null,
   "metadata": {
    "id": "1xZtWOgASMq1"
   },
   "outputs": [],
   "source": [
    "# CodeGrade step8\n",
    "# Create contingency table - use pandas crosstab\n",
    "contingency_table = None\n",
    "\n",
    "# Calculate purchase rates\n",
    "purchase_rate_emails = None\n",
    "purchase_rate_sms = None\n",
    "purchase_rate_app = None\n",
    "\n",
    "# Perform chi-square test of independence\n",
    "chi2_stat, p_value, dof, expected = None"
   ]
  },
  {
   "cell_type": "code",
   "execution_count": null,
   "metadata": {
    "id": "lDSCrweKSMq1"
   },
   "outputs": [],
   "source": [
    "# Run this cell without changes to display results\n",
    "print(\"\\nContingency Table:\")\n",
    "print(contingency_table)\n",
    "print(\"\\nChi-square Test of Independence Results:\")\n",
    "print(f\"Chi-square statistic: {chi2_stat:.2f}\")\n",
    "print(f\"p-value: {p_value:.4f}\")\n",
    "print(f\"Degrees of freedom: {dof}\")\n",
    "\n",
    "# Visualize relationship between promotion type and purchase behavior\n",
    "plt.figure(figsize=(10, 6))\n",
    "purchase_rates = pd.Series([purchase_rate_emails, purchase_rate_sms, purchase_rate_app], index=['Email', 'SMS', 'App'])\n",
    "purchase_rates.plot(kind='bar', stacked=True)\n",
    "plt.title('Purchase Behavior by Promotion Type')\n",
    "plt.ylabel('Proportion')\n",
    "plt.legend(title='Made Purchase')\n",
    "plt.show()"
   ]
  },
  {
   "cell_type": "markdown",
   "metadata": {
    "id": "5GB2iVAOSMq1"
   },
   "source": [
    "### Part 5: Results Interpretation and Recommendations\n",
    "\n",
    "Finally, we synthesize our statistical findings into actionable business recommendations for the marketing team. This crucial step bridges the gap between statistical significance and business impact, translating our analytical insights into concrete strategies for improving promotional effectiveness.\n",
    "\n",
    "For each business question interpret the statistical result (reject or fail to reject null hypothesis) and use the visuals above to determine specific patterns."
   ]
  },
  {
   "cell_type": "code",
   "execution_count": null,
   "metadata": {
    "id": "Znn5QC70aH_d"
   },
   "outputs": [],
   "source": [
    "# CodeGrade step9\n",
    "# Time of Day Preferences - Do you reject null? (True or False)\n",
    "reject_null_time = None\n",
    "# Assign string (\"Morning\", \"Afternoon\", \"Evening\")\n",
    "best_time = None\n",
    "\n",
    "# Promotion Type (assign True or False)\n",
    "reject_null_promo = None\n",
    "# Assign string (\"App\", \"Email\", \"SMS\")\n",
    "best_promo = None"
   ]
  }
 ],
 "metadata": {
  "colab": {
   "provenance": []
  },
  "kernelspec": {
   "display_name": "Python (base)",
   "language": "python",
   "name": "base"
  },
  "language_info": {
   "codemirror_mode": {
    "name": "ipython",
    "version": 3
   },
   "file_extension": ".py",
   "mimetype": "text/x-python",
   "name": "python",
   "nbconvert_exporter": "python",
   "pygments_lexer": "ipython3",
   "version": "3.11.11"
  }
 },
 "nbformat": 4,
 "nbformat_minor": 4
}
